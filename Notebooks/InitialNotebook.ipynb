{
 "nbformat": 4,
 "nbformat_minor": 0,
 "metadata": {
  "colab": {
   "provenance": []
  },
  "kernelspec": {
   "name": "python3",
   "display_name": "Python 3"
  },
  "language_info": {
   "name": "python"
  }
 },
 "cells": [
  {
   "cell_type": "code",
   "execution_count": 29,
   "outputs": [
    {
     "name": "stdout",
     "output_type": "stream",
     "text": [
      "Requirement already satisfied: requests in /home/agustin/PycharmProjects/Stations/venv/lib/python3.10/site-packages (2.28.2)\r\n",
      "Requirement already satisfied: charset-normalizer<4,>=2 in /home/agustin/PycharmProjects/Stations/venv/lib/python3.10/site-packages (from requests) (3.0.1)\r\n",
      "Requirement already satisfied: idna<4,>=2.5 in /home/agustin/PycharmProjects/Stations/venv/lib/python3.10/site-packages (from requests) (3.4)\r\n",
      "Requirement already satisfied: certifi>=2017.4.17 in /home/agustin/PycharmProjects/Stations/venv/lib/python3.10/site-packages (from requests) (2022.12.7)\r\n",
      "Requirement already satisfied: urllib3<1.27,>=1.21.1 in /home/agustin/PycharmProjects/Stations/venv/lib/python3.10/site-packages (from requests) (1.26.14)\r\n",
      "Note: you may need to restart the kernel to use updated packages.\n"
     ]
    }
   ],
   "source": [
    "pip install requests"
   ],
   "metadata": {
    "collapsed": false,
    "pycharm": {
     "name": "#%%\n"
    }
   }
  },
  {
   "cell_type": "code",
   "execution_count": 30,
   "outputs": [],
   "source": [
    "import requests"
   ],
   "metadata": {
    "collapsed": false,
    "pycharm": {
     "name": "#%%\n"
    }
   }
  },
  {
   "cell_type": "code",
   "source": [
    "API_KEY = \"HlLGK5Ty9tqyB3cj7NF44mDFJli2QFWuicxRbKI0\""
   ],
   "metadata": {
    "id": "7EbCBfaGno9a",
    "pycharm": {
     "name": "#%%\n"
    }
   },
   "execution_count": 31,
   "outputs": []
  },
  {
   "cell_type": "code",
   "source": [
    "url = \"https://developer.nrel.gov/api/alt-fuel-stations/v1.json?limit=all&api_key={}&fuel_type={}\".format(API_KEY, \"ELEC\")"
   ],
   "metadata": {
    "id": "arSXI06_ndMw",
    "pycharm": {
     "name": "#%%\n"
    }
   },
   "execution_count": 32,
   "outputs": []
  },
  {
   "cell_type": "code",
   "source": [
    "r = requests.get(url)"
   ],
   "metadata": {
    "id": "SJ7knT3Eny0s",
    "pycharm": {
     "name": "#%%\n"
    }
   },
   "execution_count": 33,
   "outputs": []
  },
  {
   "cell_type": "code",
   "source": [
    "import json\n",
    "\n",
    "json_object = json.loads(r.text)"
   ],
   "metadata": {
    "id": "9ArmfzzWo4w4",
    "pycharm": {
     "name": "#%%\n"
    }
   },
   "execution_count": 34,
   "outputs": []
  },
  {
   "cell_type": "code",
   "source": [
    "json_object.keys()"
   ],
   "metadata": {
    "colab": {
     "base_uri": "https://localhost:8080/"
    },
    "id": "arItgdren1gm",
    "outputId": "49864b71-d254-4ec9-f168-041c06a78e76",
    "pycharm": {
     "name": "#%%\n"
    }
   },
   "execution_count": 35,
   "outputs": [
    {
     "data": {
      "text/plain": "dict_keys(['station_locator_url', 'total_results', 'station_counts', 'fuel_stations'])"
     },
     "execution_count": 35,
     "metadata": {},
     "output_type": "execute_result"
    }
   ]
  },
  {
   "cell_type": "code",
   "source": [
    "json_object[\"total_results\"]"
   ],
   "metadata": {
    "colab": {
     "base_uri": "https://localhost:8080/"
    },
    "id": "ZTIY4owBpPzL",
    "outputId": "f8ab4b0c-5e80-4010-d4e0-6f1a93bd9683",
    "pycharm": {
     "name": "#%%\n"
    }
   },
   "execution_count": 36,
   "outputs": [
    {
     "data": {
      "text/plain": "57944"
     },
     "execution_count": 36,
     "metadata": {},
     "output_type": "execute_result"
    }
   ]
  },
  {
   "cell_type": "code",
   "source": [
    "json_object[\"station_locator_url\"]"
   ],
   "metadata": {
    "colab": {
     "base_uri": "https://localhost:8080/",
     "height": 35
    },
    "id": "_ieBnPs0pT-F",
    "outputId": "39b032d6-32fa-4c4a-97d8-927f9615e05e",
    "pycharm": {
     "name": "#%%\n"
    }
   },
   "execution_count": 37,
   "outputs": [
    {
     "data": {
      "text/plain": "'https://afdc.energy.gov/stations/'"
     },
     "execution_count": 37,
     "metadata": {},
     "output_type": "execute_result"
    }
   ]
  },
  {
   "cell_type": "code",
   "source": [
    "json_object[\"station_counts\"]"
   ],
   "metadata": {
    "colab": {
     "base_uri": "https://localhost:8080/"
    },
    "id": "YZQaSE3kpVQs",
    "outputId": "ba91f46e-8c6a-4388-cb46-4d66ab9b85df",
    "pycharm": {
     "name": "#%%\n"
    }
   },
   "execution_count": 38,
   "outputs": [
    {
     "data": {
      "text/plain": "{'total': 151227,\n 'fuels': {'BD': {'total': 0},\n  'E85': {'total': 0},\n  'ELEC': {'total': 151227, 'stations': {'total': 57944}},\n  'HY': {'total': 0},\n  'LNG': {'total': 0},\n  'CNG': {'total': 0},\n  'LPG': {'total': 0}}}"
     },
     "execution_count": 38,
     "metadata": {},
     "output_type": "execute_result"
    }
   ]
  },
  {
   "cell_type": "code",
   "source": [
    "for station in json_object[\"fuel_stations\"]:\n",
    "  print(station)\n",
    "  break"
   ],
   "metadata": {
    "colab": {
     "base_uri": "https://localhost:8080/"
    },
    "id": "_xu2gBFzp4k2",
    "outputId": "30e75694-7607-4322-e547-af07798dc488",
    "pycharm": {
     "name": "#%%\n"
    }
   },
   "execution_count": 39,
   "outputs": [
    {
     "name": "stdout",
     "output_type": "stream",
     "text": [
      "{'access_code': 'private', 'access_days_time': 'Fleet use only', 'access_detail_code': None, 'cards_accepted': None, 'date_last_confirmed': '2023-01-10', 'expected_date': None, 'fuel_type_code': 'ELEC', 'groups_with_access_code': 'Private', 'id': 1517, 'open_date': '1999-10-15', 'owner_type_code': 'LG', 'status_code': 'E', 'restricted_access': None, 'station_name': 'LADWP - Truesdale Center', 'station_phone': None, 'updated_at': '2023-01-10T16:44:47Z', 'facility_type': 'UTILITY', 'geocode_status': 'GPS', 'latitude': 34.2483191527193, 'longitude': -118.3879713743439, 'city': 'Sun Valley', 'intersection_directions': None, 'plus4': None, 'state': 'CA', 'street_address': '11797 Truesdale St', 'zip': '91352', 'country': 'US', 'bd_blends': None, 'cng_dispenser_num': None, 'cng_fill_type_code': None, 'cng_psi': None, 'cng_renewable_source': None, 'cng_total_compression': None, 'cng_total_storage': None, 'cng_vehicle_class': None, 'e85_blender_pump': None, 'e85_other_ethanol_blends': None, 'ev_connector_types': ['CHADEMO', 'J1772', 'J1772COMBO'], 'ev_dc_fast_num': 3, 'ev_level1_evse_num': None, 'ev_level2_evse_num': 39, 'ev_network': 'Non-Networked', 'ev_network_web': None, 'ev_other_evse': None, 'ev_pricing': None, 'ev_renewable_source': None, 'hy_is_retail': None, 'hy_pressures': None, 'hy_standards': None, 'hy_status_link': None, 'lng_renewable_source': None, 'lng_vehicle_class': None, 'lpg_primary': None, 'lpg_nozzle_types': None, 'ng_fill_type_code': None, 'ng_psi': None, 'ng_vehicle_class': None, 'access_days_time_fr': None, 'intersection_directions_fr': None, 'bd_blends_fr': None, 'groups_with_access_code_fr': 'Privé', 'ev_pricing_fr': None}\n"
     ]
    }
   ]
  },
  {
   "cell_type": "code",
   "source": [
    "stations_coordinates = []\n",
    "for station in json_object[\"fuel_stations\"]:\n",
    "  coordinates = [station[\"id\"], station[\"latitude\"], station[\"longitude\"]]\n",
    "  stations_coordinates.append(coordinates)"
   ],
   "metadata": {
    "id": "nF0lymRmpXs3",
    "pycharm": {
     "name": "#%%\n"
    }
   },
   "execution_count": 40,
   "outputs": []
  },
  {
   "cell_type": "code",
   "source": [
    "with open(\"coordinates.csv\", \"w\") as f:\n",
    "  f.write(\"id,latitude,longitude\\r\\n\")\n",
    "  for coordinate in stations_coordinates:\n",
    "    f.write(\"{},{},{}\\r\\n\".format(coordinate[0], coordinate[1], coordinate[2]))\n"
   ],
   "metadata": {
    "id": "c2telkLRpq8T",
    "pycharm": {
     "name": "#%%\n"
    }
   },
   "execution_count": 41,
   "outputs": []
  },
  {
   "cell_type": "code",
   "source": [
    "import logging\n",
    "\n",
    "logging.basicConfig(filename='application.log', level=logging.INFO, filemode=\"w\")"
   ],
   "metadata": {
    "id": "5JEln5y1Gn0P",
    "pycharm": {
     "name": "#%%\n"
    }
   },
   "execution_count": 42,
   "outputs": []
  },
  {
   "cell_type": "code",
   "source": [
    "key = \"Uq3IgQh8Nx0GRLHSAlM2FW80mQMtrMaf3g4eiQf_IHVt5aS3Q24HZ8kYRDgQgQPle2cVfKOXp662JYPTZSXYPGGxy4OlrDg0itCKlW6BzRos8sSbBVI_-ZcR3KvSY3Yx\""
   ],
   "metadata": {
    "id": "r04M2Uiw8C8J",
    "pycharm": {
     "name": "#%%\n"
    }
   },
   "execution_count": 43,
   "outputs": []
  },
  {
   "cell_type": "code",
   "source": [
    "yelp_categories = [\n",
    "    \"arcades\",  # Arcades\n",
    "    \"casinos\",  # Casinos\n",
    "    \"movietheaters\",  # Cinema # Has Sub Categories\n",
    "    \"museums\",  # Museums # Has Sub Categories\n",
    "    \"barbers\",  # Barbers\n",
    "    \"hair\",  # Hair Salons # Has Sub Categories\n",
    "    \"othersalons \",  # Nail Salons # Has Sub Categories\n",
    "    \"massage\",  # Massage\n",
    "    \"food\",  # Food # Has Lot Of Sub Categories\n",
    "    \"restaurants\",  # Restaurants # Has Lot Of Sub Categories\n",
    "    \"shopping\",  # Shopping # Has Lot Of Sub Categories\n",
    "    \"souvenirs\",  # Souvenir Shops\n",
    "    \"sportgoods\"]  # Sporting Goods # Has Sub Categories"
   ],
   "metadata": {
    "id": "1g8H2DR995PZ",
    "pycharm": {
     "name": "#%%\n"
    }
   },
   "execution_count": 71,
   "outputs": [
    {
     "data": {
      "text/plain": "['arcades',\n 'casinos',\n 'movietheaters',\n 'museums',\n 'barbers',\n 'hair',\n 'othersalons ',\n 'massage',\n 'food',\n 'restaurants',\n 'shopping',\n 'souvenirs',\n 'sportgoods']"
     },
     "execution_count": 56,
     "metadata": {},
     "output_type": "execute_result"
    },
    {
     "data": {
      "text/plain": "['arcades',\n 'casinos',\n 'movietheaters',\n 'museums',\n 'barbers',\n 'hair',\n 'othersalons ',\n 'massage',\n 'food',\n 'restaurants',\n 'shopping',\n 'souvenirs',\n 'sportgoods']"
     },
     "execution_count": 57,
     "metadata": {},
     "output_type": "execute_result"
    },
    {
     "data": {
      "text/plain": "['arcades',\n 'casinos',\n 'movietheaters',\n 'museums',\n 'barbers',\n 'hair',\n 'othersalons ',\n 'massage',\n 'food',\n 'restaurants',\n 'shopping',\n 'souvenirs',\n 'sportgoods']"
     },
     "execution_count": 58,
     "metadata": {},
     "output_type": "execute_result"
    },
    {
     "data": {
      "text/plain": "['arcades',\n 'casinos',\n 'movietheaters',\n 'museums',\n 'barbers',\n 'hair',\n 'othersalons ',\n 'massage',\n 'food',\n 'restaurants',\n 'shopping',\n 'souvenirs',\n 'sportgoods']"
     },
     "execution_count": 59,
     "metadata": {},
     "output_type": "execute_result"
    },
    {
     "data": {
      "text/plain": "['arcades',\n 'casinos',\n 'movietheaters',\n 'museums',\n 'barbers',\n 'hair',\n 'othersalons ',\n 'massage',\n 'food',\n 'restaurants',\n 'shopping',\n 'souvenirs',\n 'sportgoods']"
     },
     "execution_count": 60,
     "metadata": {},
     "output_type": "execute_result"
    },
    {
     "data": {
      "text/plain": "['arcades',\n 'casinos',\n 'movietheaters',\n 'museums',\n 'barbers',\n 'hair',\n 'othersalons ',\n 'massage',\n 'food',\n 'restaurants',\n 'shopping',\n 'souvenirs',\n 'sportgoods']"
     },
     "execution_count": 61,
     "metadata": {},
     "output_type": "execute_result"
    }
   ]
  },
  {
   "cell_type": "code",
   "source": [
    "headers = {\n",
    "    \"accept\": \"application/json\",\n",
    "    \"Authorization\": \"Bearer {}\".format(key)\n",
    "}"
   ],
   "metadata": {
    "id": "C_t0t7nC_ata",
    "pycharm": {
     "name": "#%%\n"
    }
   },
   "execution_count": 45,
   "outputs": []
  },
  {
   "cell_type": "code",
   "execution_count": 46,
   "outputs": [],
   "source": [
    "id, latitude, longitude = stations_coordinates[0]\n",
    "logging.info(\"Processing ID {}\".format(id))"
   ],
   "metadata": {
    "collapsed": false,
    "pycharm": {
     "name": "#%%\n"
    }
   }
  },
  {
   "cell_type": "code",
   "execution_count": 72,
   "outputs": [
    {
     "name": "stdout",
     "output_type": "stream",
     "text": [
      "arcades\n",
      "casinos\n",
      "movietheaters\n",
      "museums\n",
      "barbers\n",
      "hair\n",
      "othersalons \n",
      "massage\n",
      "food\n",
      "restaurants\n",
      "shopping\n",
      "souvenirs\n",
      "sportgoods\n",
      "arcades\n",
      "casinos\n",
      "movietheaters\n",
      "museums\n",
      "barbers\n",
      "hair\n",
      "othersalons \n",
      "massage\n",
      "food\n",
      "restaurants\n",
      "shopping\n",
      "souvenirs\n",
      "sportgoods\n"
     ]
    },
    {
     "data": {
      "text/plain": "['arcades',\n 'casinos',\n 'movietheaters',\n 'museums',\n 'barbers',\n 'hair',\n 'othersalons ',\n 'massage',\n 'food',\n 'restaurants',\n 'shopping',\n 'souvenirs',\n 'sportgoods']"
     },
     "execution_count": 55,
     "metadata": {},
     "output_type": "execute_result"
    }
   ],
   "source": [
    "yelp_categories"
   ],
   "metadata": {
    "collapsed": false,
    "pycharm": {
     "name": "#%%\n"
    }
   }
  },
  {
   "cell_type": "code",
   "source": [
    "for category in yelp_categories:\n",
    "    limit = 50\n",
    "    offset = 0\n",
    "    sort_by = \"distance\"\n",
    "    radius = 40000\n",
    "\n",
    "    yelp_url = \"https://api.yelp.com/v3/businesses/search\"\n",
    "    \"?radius={}\"\n",
    "    \"&latitude={}\"\n",
    "    \"&longitude={}\"\n",
    "    \"&categories={}\"\n",
    "    \"&limit={}\"\n",
    "    \"&offset={}\"\n",
    "    \"&sort_by={}\".format(radius, latitude, longitude, category, limit, offset, sort_by)\n",
    "\n",
    "    response = requests.get(yelp_url, headers=headers)\n",
    "    json_response = json.loads(response.text)\n",
    "\n",
    "    logging.info(\n",
    "        \"Radius {}, Category {}, Limit {}, Offset {}, Sort_by {}, Json Response Total {}\".format(radius, category, limit, offset, sort_by, json_response[\"total\"]))\n",
    "    break\n"
   ],
   "metadata": {
    "id": "aVhgPcC19MP8",
    "pycharm": {
     "name": "#%%\n"
    }
   },
   "execution_count": 51,
   "outputs": [
    {
     "ename": "KeyError",
     "evalue": "'total'",
     "output_type": "error",
     "traceback": [
      "\u001B[0;31m---------------------------------------------------------------------------\u001B[0m",
      "\u001B[0;31mKeyError\u001B[0m                                  Traceback (most recent call last)",
      "Cell \u001B[0;32mIn[28], line 20\u001B[0m\n\u001B[1;32m     16\u001B[0m response \u001B[38;5;241m=\u001B[39m requests\u001B[38;5;241m.\u001B[39mget(yelp_url, headers\u001B[38;5;241m=\u001B[39mheaders)\n\u001B[1;32m     17\u001B[0m json_response \u001B[38;5;241m=\u001B[39m json\u001B[38;5;241m.\u001B[39mloads(response\u001B[38;5;241m.\u001B[39mtext)\n\u001B[1;32m     19\u001B[0m logging\u001B[38;5;241m.\u001B[39minfo(\n\u001B[0;32m---> 20\u001B[0m     \u001B[38;5;124m\"\u001B[39m\u001B[38;5;124mRadius \u001B[39m\u001B[38;5;132;01m{}\u001B[39;00m\u001B[38;5;124m, Category \u001B[39m\u001B[38;5;132;01m{}\u001B[39;00m\u001B[38;5;124m, Limit \u001B[39m\u001B[38;5;132;01m{}\u001B[39;00m\u001B[38;5;124m, Offset \u001B[39m\u001B[38;5;132;01m{}\u001B[39;00m\u001B[38;5;124m, Sort_by \u001B[39m\u001B[38;5;132;01m{}\u001B[39;00m\u001B[38;5;124m, Json Response Total \u001B[39m\u001B[38;5;132;01m{}\u001B[39;00m\u001B[38;5;124m\"\u001B[39m\u001B[38;5;241m.\u001B[39mformat(radius, category, limit, offset, sort_by, \u001B[43mjson_response\u001B[49m\u001B[43m[\u001B[49m\u001B[38;5;124;43m\"\u001B[39;49m\u001B[38;5;124;43mtotal\u001B[39;49m\u001B[38;5;124;43m\"\u001B[39;49m\u001B[43m]\u001B[49m))\n\u001B[1;32m     21\u001B[0m \u001B[38;5;28;01mbreak\u001B[39;00m\n",
      "\u001B[0;31mKeyError\u001B[0m: 'total'"
     ]
    },
    {
     "ename": "KeyError",
     "evalue": "'total'",
     "output_type": "error",
     "traceback": [
      "\u001B[0;31m---------------------------------------------------------------------------\u001B[0m",
      "\u001B[0;31mKeyError\u001B[0m                                  Traceback (most recent call last)",
      "Cell \u001B[0;32mIn[47], line 20\u001B[0m\n\u001B[1;32m     16\u001B[0m response \u001B[38;5;241m=\u001B[39m requests\u001B[38;5;241m.\u001B[39mget(yelp_url, headers\u001B[38;5;241m=\u001B[39mheaders)\n\u001B[1;32m     17\u001B[0m json_response \u001B[38;5;241m=\u001B[39m json\u001B[38;5;241m.\u001B[39mloads(response\u001B[38;5;241m.\u001B[39mtext)\n\u001B[1;32m     19\u001B[0m logging\u001B[38;5;241m.\u001B[39minfo(\n\u001B[0;32m---> 20\u001B[0m     \u001B[38;5;124m\"\u001B[39m\u001B[38;5;124mRadius \u001B[39m\u001B[38;5;132;01m{}\u001B[39;00m\u001B[38;5;124m, Category \u001B[39m\u001B[38;5;132;01m{}\u001B[39;00m\u001B[38;5;124m, Limit \u001B[39m\u001B[38;5;132;01m{}\u001B[39;00m\u001B[38;5;124m, Offset \u001B[39m\u001B[38;5;132;01m{}\u001B[39;00m\u001B[38;5;124m, Sort_by \u001B[39m\u001B[38;5;132;01m{}\u001B[39;00m\u001B[38;5;124m, Json Response Total \u001B[39m\u001B[38;5;132;01m{}\u001B[39;00m\u001B[38;5;124m\"\u001B[39m\u001B[38;5;241m.\u001B[39mformat(radius, category, limit, offset, sort_by, \u001B[43mjson_response\u001B[49m\u001B[43m[\u001B[49m\u001B[38;5;124;43m\"\u001B[39;49m\u001B[38;5;124;43mtotal\u001B[39;49m\u001B[38;5;124;43m\"\u001B[39;49m\u001B[43m]\u001B[49m))\n\u001B[1;32m     21\u001B[0m \u001B[38;5;28;01mbreak\u001B[39;00m\n",
      "\u001B[0;31mKeyError\u001B[0m: 'total'"
     ]
    },
    {
     "name": "stdout",
     "output_type": "stream",
     "text": [
      "Algo\n"
     ]
    },
    {
     "ename": "KeyError",
     "evalue": "'total'",
     "output_type": "error",
     "traceback": [
      "\u001B[0;31m---------------------------------------------------------------------------\u001B[0m",
      "\u001B[0;31mKeyError\u001B[0m                                  Traceback (most recent call last)",
      "Cell \u001B[0;32mIn[51], line 21\u001B[0m\n\u001B[1;32m     17\u001B[0m response \u001B[38;5;241m=\u001B[39m requests\u001B[38;5;241m.\u001B[39mget(yelp_url, headers\u001B[38;5;241m=\u001B[39mheaders)\n\u001B[1;32m     18\u001B[0m json_response \u001B[38;5;241m=\u001B[39m json\u001B[38;5;241m.\u001B[39mloads(response\u001B[38;5;241m.\u001B[39mtext)\n\u001B[1;32m     20\u001B[0m logging\u001B[38;5;241m.\u001B[39minfo(\n\u001B[0;32m---> 21\u001B[0m     \u001B[38;5;124m\"\u001B[39m\u001B[38;5;124mRadius \u001B[39m\u001B[38;5;132;01m{}\u001B[39;00m\u001B[38;5;124m, Category \u001B[39m\u001B[38;5;132;01m{}\u001B[39;00m\u001B[38;5;124m, Limit \u001B[39m\u001B[38;5;132;01m{}\u001B[39;00m\u001B[38;5;124m, Offset \u001B[39m\u001B[38;5;132;01m{}\u001B[39;00m\u001B[38;5;124m, Sort_by \u001B[39m\u001B[38;5;132;01m{}\u001B[39;00m\u001B[38;5;124m, Json Response Total \u001B[39m\u001B[38;5;132;01m{}\u001B[39;00m\u001B[38;5;124m\"\u001B[39m\u001B[38;5;241m.\u001B[39mformat(radius, category, limit, offset, sort_by, \u001B[43mjson_response\u001B[49m\u001B[43m[\u001B[49m\u001B[38;5;124;43m\"\u001B[39;49m\u001B[38;5;124;43mtotal\u001B[39;49m\u001B[38;5;124;43m\"\u001B[39;49m\u001B[43m]\u001B[49m))\n\u001B[1;32m     22\u001B[0m \u001B[38;5;28;01mbreak\u001B[39;00m\n",
      "\u001B[0;31mKeyError\u001B[0m: 'total'"
     ]
    }
   ]
  },
  {
   "cell_type": "code",
   "source": [
    "json_response.keys()"
   ],
   "metadata": {
    "colab": {
     "base_uri": "https://localhost:8080/"
    },
    "id": "KXYKEily_DiD",
    "outputId": "82d5d26a-f3f1-4510-8204-0b18f15adbb1",
    "pycharm": {
     "name": "#%%\n"
    }
   },
   "execution_count": 49,
   "outputs": [
    {
     "data": {
      "text/plain": "dict_keys(['error'])"
     },
     "execution_count": 48,
     "metadata": {},
     "output_type": "execute_result"
    },
    {
     "data": {
      "text/plain": "dict_keys(['error'])"
     },
     "execution_count": 49,
     "metadata": {},
     "output_type": "execute_result"
    }
   ]
  },
  {
   "cell_type": "code",
   "source": [
    "json_response[\"total\"]"
   ],
   "metadata": {
    "colab": {
     "base_uri": "https://localhost:8080/"
    },
    "id": "SRg0ZEMT_PFN",
    "outputId": "c94d9e0c-e3c8-425a-91a8-61da12b830ff",
    "pycharm": {
     "name": "#%%\n"
    }
   },
   "execution_count": 50,
   "outputs": [
    {
     "ename": "KeyError",
     "evalue": "'total'",
     "output_type": "error",
     "traceback": [
      "\u001B[0;31m---------------------------------------------------------------------------\u001B[0m",
      "\u001B[0;31mKeyError\u001B[0m                                  Traceback (most recent call last)",
      "Cell \u001B[0;32mIn[50], line 1\u001B[0m\n\u001B[0;32m----> 1\u001B[0m \u001B[43mjson_response\u001B[49m\u001B[43m[\u001B[49m\u001B[38;5;124;43m\"\u001B[39;49m\u001B[38;5;124;43mtotal\u001B[39;49m\u001B[38;5;124;43m\"\u001B[39;49m\u001B[43m]\u001B[49m\n",
      "\u001B[0;31mKeyError\u001B[0m: 'total'"
     ]
    }
   ]
  },
  {
   "cell_type": "code",
   "execution_count": 27,
   "outputs": [
    {
     "ename": "NameError",
     "evalue": "name 'json_response' is not defined",
     "output_type": "error",
     "traceback": [
      "\u001B[0;31m---------------------------------------------------------------------------\u001B[0m",
      "\u001B[0;31mNameError\u001B[0m                                 Traceback (most recent call last)",
      "Cell \u001B[0;32mIn[27], line 1\u001B[0m\n\u001B[0;32m----> 1\u001B[0m \u001B[43mjson_response\u001B[49m[\u001B[38;5;124m\"\u001B[39m\u001B[38;5;124mregion\u001B[39m\u001B[38;5;124m\"\u001B[39m]\n",
      "\u001B[0;31mNameError\u001B[0m: name 'json_response' is not defined"
     ]
    }
   ],
   "source": [
    "json_response[\"region\"]"
   ],
   "metadata": {
    "collapsed": false,
    "pycharm": {
     "name": "#%%\n"
    }
   }
  },
  {
   "cell_type": "code",
   "source": [
    "for business in json_response[\"businesses\"]:\n",
    "  print(business)"
   ],
   "metadata": {
    "colab": {
     "base_uri": "https://localhost:8080/"
    },
    "id": "3q3r7PUL_FJ5",
    "outputId": "b9b0e0bd-2896-4ae9-e425-59262646f991",
    "pycharm": {
     "name": "#%%\n"
    }
   },
   "execution_count": 70,
   "outputs": [
    {
     "output_type": "stream",
     "name": "stdout",
     "text": [
      "{'id': 'TpDrD5XV0GrJvOn-lpLDdQ', 'alias': 'chuck-e-cheese-sun-valley', 'name': 'Chuck E. Cheese', 'image_url': 'https://s3-media3.fl.yelpcdn.com/bphoto/NayhHQBuXAuXm-S2cSymKw/o.jpg', 'is_closed': False, 'url': 'https://www.yelp.com/biz/chuck-e-cheese-sun-valley?adjust_creative=qoZ4j1UIe7DUt0-kfp0WQw&utm_campaign=yelp_api_v3&utm_medium=api_v3_business_search&utm_source=qoZ4j1UIe7DUt0-kfp0WQw', 'review_count': 129, 'categories': [{'alias': 'pizza', 'title': 'Pizza'}, {'alias': 'arcades', 'title': 'Arcades'}, {'alias': 'kids_activities', 'title': 'Kids Activities'}], 'rating': 2.5, 'coordinates': {'latitude': 34.223755, 'longitude': -118.398849}, 'transactions': ['pickup', 'delivery'], 'price': '$$', 'location': {'address1': '8375 Laurel Canyon Blvd', 'address2': '', 'address3': '', 'city': 'Sun Valley', 'zip_code': '91352', 'country': 'US', 'state': 'CA', 'display_address': ['8375 Laurel Canyon Blvd', 'Sun Valley, CA 91352']}, 'phone': '+18187682106', 'display_phone': '(818) 768-2106', 'distance': 2908.692204771499}\n",
      "{'id': 'h8_MdkiJKscYS5WnV5jkvQ', 'alias': 'recess-time-arcade-san-fernando', 'name': 'Recess Time Arcade', 'image_url': '', 'is_closed': False, 'url': 'https://www.yelp.com/biz/recess-time-arcade-san-fernando?adjust_creative=qoZ4j1UIe7DUt0-kfp0WQw&utm_campaign=yelp_api_v3&utm_medium=api_v3_business_search&utm_source=qoZ4j1UIe7DUt0-kfp0WQw', 'review_count': 3, 'categories': [{'alias': 'arcades', 'title': 'Arcades'}], 'rating': 5.0, 'coordinates': {'latitude': 34.28447, 'longitude': -118.43916}, 'transactions': [], 'location': {'address1': '120 N Maclay Ave', 'address2': 'Ste F', 'address3': None, 'city': 'San Fernando', 'zip_code': '91340', 'country': 'US', 'state': 'CA', 'display_address': ['120 N Maclay Ave', 'Ste F', 'San Fernando, CA 91340']}, 'phone': '', 'display_phone': '', 'distance': 6194.378248196092}\n",
      "{'id': 'P8mmrHmF-POcg6R74Ffq9w', 'alias': 'shelden-services-los-angeles', 'name': 'Shelden Services', 'image_url': '', 'is_closed': False, 'url': 'https://www.yelp.com/biz/shelden-services-los-angeles?adjust_creative=qoZ4j1UIe7DUt0-kfp0WQw&utm_campaign=yelp_api_v3&utm_medium=api_v3_business_search&utm_source=qoZ4j1UIe7DUt0-kfp0WQw', 'review_count': 5, 'categories': [{'alias': 'arcades', 'title': 'Arcades'}, {'alias': 'homeappliancerepair', 'title': 'Appliances & Repair'}, {'alias': 'electronicsrepair', 'title': 'Electronics Repair'}], 'rating': 5.0, 'coordinates': {'latitude': 34.1868209838867, 'longitude': -118.388984680176}, 'transactions': [], 'location': {'address1': '', 'address2': '', 'address3': None, 'city': 'Los Angeles', 'zip_code': '91606', 'country': 'US', 'state': 'CA', 'display_address': ['Los Angeles, CA 91606']}, 'phone': '+18185301401', 'display_phone': '(818) 530-1401', 'distance': 6776.6794601486}\n",
      "{'id': '1WmPBZrNVqT0n_Hdl3CUtA', 'alias': 'chuck-e-cheese-burbank', 'name': 'Chuck E. Cheese', 'image_url': 'https://s3-media3.fl.yelpcdn.com/bphoto/DSrY25p-aCDK4TBkYk1H9w/o.jpg', 'is_closed': False, 'url': 'https://www.yelp.com/biz/chuck-e-cheese-burbank?adjust_creative=qoZ4j1UIe7DUt0-kfp0WQw&utm_campaign=yelp_api_v3&utm_medium=api_v3_business_search&utm_source=qoZ4j1UIe7DUt0-kfp0WQw', 'review_count': 217, 'categories': [{'alias': 'pizza', 'title': 'Pizza'}, {'alias': 'arcades', 'title': 'Arcades'}], 'rating': 3.0, 'coordinates': {'latitude': 34.1872662, 'longitude': -118.3172271}, 'transactions': ['pickup', 'delivery'], 'price': '$$', 'location': {'address1': '930 N San Fernando Blvd', 'address2': '', 'address3': '', 'city': 'Burbank', 'zip_code': '91504', 'country': 'US', 'state': 'CA', 'display_address': ['930 N San Fernando Blvd', 'Burbank, CA 91504']}, 'phone': '+18188414386', 'display_phone': '(818) 841-4386', 'distance': 9404.484499505765}\n",
      "{'id': 'DJB_rO-JZVRrqdy1x5P6gA', 'alias': 'player-one-north-hollywood', 'name': 'Player One', 'image_url': 'https://s3-media4.fl.yelpcdn.com/bphoto/JTkJWkaAs_CO2ha2VN4Fqw/o.jpg', 'is_closed': False, 'url': 'https://www.yelp.com/biz/player-one-north-hollywood?adjust_creative=qoZ4j1UIe7DUt0-kfp0WQw&utm_campaign=yelp_api_v3&utm_medium=api_v3_business_search&utm_source=qoZ4j1UIe7DUt0-kfp0WQw', 'review_count': 146, 'categories': [{'alias': 'lounges', 'title': 'Lounges'}, {'alias': 'arcades', 'title': 'Arcades'}], 'rating': 4.0, 'coordinates': {'latitude': 34.163799800003105, 'longitude': -118.37378166260035}, 'transactions': [], 'location': {'address1': '5126 Lankershim Blvd', 'address2': None, 'address3': '', 'city': 'North Hollywood', 'zip_code': '91601', 'country': 'US', 'state': 'CA', 'display_address': ['5126 Lankershim Blvd', 'North Hollywood, CA 91601']}, 'phone': '+18183584451', 'display_phone': '(818) 358-4451', 'distance': 9488.269989914099}\n",
      "{'id': '25R5onx8sDCNzaGU_TmCHg', 'alias': 'all-amusement-fun-center-burbank', 'name': 'All Amusement Fun Center', 'image_url': 'https://s3-media2.fl.yelpcdn.com/bphoto/9LTF0SpV2DwgTr2mhLvACg/o.jpg', 'is_closed': False, 'url': 'https://www.yelp.com/biz/all-amusement-fun-center-burbank?adjust_creative=qoZ4j1UIe7DUt0-kfp0WQw&utm_campaign=yelp_api_v3&utm_medium=api_v3_business_search&utm_source=qoZ4j1UIe7DUt0-kfp0WQw', 'review_count': 68, 'categories': [{'alias': 'amusementparks', 'title': 'Amusement Parks'}, {'alias': 'arcades', 'title': 'Arcades'}], 'rating': 3.0, 'coordinates': {'latitude': 34.1834297, 'longitude': -118.3121719}, 'transactions': [], 'location': {'address1': '201 E Magnolia Blvd', 'address2': 'Ste 128', 'address3': '', 'city': 'Burbank', 'zip_code': '91502', 'country': 'US', 'state': 'CA', 'display_address': ['201 E Magnolia Blvd', 'Ste 128', 'Burbank, CA 91502']}, 'phone': '+18185576558', 'display_phone': '(818) 557-6558', 'distance': 10046.73169818108}\n",
      "{'id': 'PwxPZkF8bYRmNYZl8t6nzQ', 'alias': 'round1-burbank-burbank', 'name': 'Round1 Burbank', 'image_url': 'https://s3-media1.fl.yelpcdn.com/bphoto/6_J1u4p6VCjH2azXR6VGOQ/o.jpg', 'is_closed': False, 'url': 'https://www.yelp.com/biz/round1-burbank-burbank?adjust_creative=qoZ4j1UIe7DUt0-kfp0WQw&utm_campaign=yelp_api_v3&utm_medium=api_v3_business_search&utm_source=qoZ4j1UIe7DUt0-kfp0WQw', 'review_count': 190, 'categories': [{'alias': 'bowling', 'title': 'Bowling'}, {'alias': 'karaoke', 'title': 'Karaoke'}, {'alias': 'arcades', 'title': 'Arcades'}], 'rating': 3.5, 'coordinates': {'latitude': 34.18343, 'longitude': -118.31217}, 'transactions': [], 'price': '$$', 'location': {'address1': '201 E Magnolia Blvd', 'address2': '', 'address3': None, 'city': 'Burbank', 'zip_code': '91502', 'country': 'US', 'state': 'CA', 'display_address': ['201 E Magnolia Blvd', 'Burbank, CA 91502']}, 'phone': '+18183335859', 'display_phone': '(818) 333-5859', 'distance': 10046.73169818108}\n",
      "{'id': 'b12v6t7zglPXR1linz4ycQ', 'alias': 'go-calendars-toys-and-games-burbank', 'name': 'Go Calendars Toys & Games', 'image_url': 'https://s3-media1.fl.yelpcdn.com/bphoto/1RHUNlv4vauDPzJrUkp6xA/o.jpg', 'is_closed': False, 'url': 'https://www.yelp.com/biz/go-calendars-toys-and-games-burbank?adjust_creative=qoZ4j1UIe7DUt0-kfp0WQw&utm_campaign=yelp_api_v3&utm_medium=api_v3_business_search&utm_source=qoZ4j1UIe7DUt0-kfp0WQw', 'review_count': 1, 'categories': [{'alias': 'arcades', 'title': 'Arcades'}, {'alias': 'stationery', 'title': 'Cards & Stationery'}], 'rating': 5.0, 'coordinates': {'latitude': 34.18343, 'longitude': -118.31217}, 'transactions': [], 'location': {'address1': '201 East Magnolia Blvd', 'address2': '5401 o/s Cost Plus World Market', 'address3': None, 'city': 'Burbank', 'zip_code': '91502', 'country': 'US', 'state': 'CA', 'display_address': ['201 East Magnolia Blvd', '5401 o/s Cost Plus World Market', 'Burbank, CA 91502']}, 'phone': '+18185668556', 'display_phone': '(818) 566-8556', 'distance': 10046.73169818108}\n",
      "{'id': 'LhY8rzU2b6jLlhzCSTPEVw', 'alias': 'sega-of-america-burbank', 'name': 'Sega of America', 'image_url': 'https://s3-media2.fl.yelpcdn.com/bphoto/fE7d4jkLse6qN7EP2YUR4g/o.jpg', 'is_closed': False, 'url': 'https://www.yelp.com/biz/sega-of-america-burbank?adjust_creative=qoZ4j1UIe7DUt0-kfp0WQw&utm_campaign=yelp_api_v3&utm_medium=api_v3_business_search&utm_source=qoZ4j1UIe7DUt0-kfp0WQw', 'review_count': 1, 'categories': [{'alias': 'arcades', 'title': 'Arcades'}], 'rating': 4.0, 'coordinates': {'latitude': 34.18145, 'longitude': -118.3076}, 'transactions': [], 'location': {'address1': '250 E Olive Ave', 'address2': 'Ste 200', 'address3': None, 'city': 'Burbank', 'zip_code': '91502', 'country': 'US', 'state': 'CA', 'display_address': ['250 E Olive Ave', 'Ste 200', 'Burbank, CA 91502']}, 'phone': '', 'display_phone': '', 'distance': 10483.941538230854}\n",
      "{'id': 'K9eSixpWTpZLkwy8nVvlNQ', 'alias': 'blizzard-arena-burbank-3', 'name': 'Blizzard Arena', 'image_url': 'https://s3-media1.fl.yelpcdn.com/bphoto/qWkPlI555R4NcJr4L0uHeQ/o.jpg', 'is_closed': False, 'url': 'https://www.yelp.com/biz/blizzard-arena-burbank-3?adjust_creative=qoZ4j1UIe7DUt0-kfp0WQw&utm_campaign=yelp_api_v3&utm_medium=api_v3_business_search&utm_source=qoZ4j1UIe7DUt0-kfp0WQw', 'review_count': 17, 'categories': [{'alias': 'lancenters', 'title': 'LAN Centers'}, {'alias': 'stadiumsarenas', 'title': 'Stadiums & Arenas'}, {'alias': 'arcades', 'title': 'Arcades'}], 'rating': 4.0, 'coordinates': {'latitude': 34.1556, 'longitude': -118.33487}, 'transactions': [], 'location': {'address1': '3000 W Alameda Ave', 'address2': '', 'address3': None, 'city': 'Burbank', 'zip_code': '91523', 'country': 'US', 'state': 'CA', 'display_address': ['3000 W Alameda Ave', 'Burbank, CA 91523']}, 'phone': '', 'display_phone': '', 'distance': 11407.979483611782}\n",
      "{'id': 'B3CDZxQThgK1FcmdrPaE8w', 'alias': 'pinz-bowling-center-studio-city', 'name': 'Pinz Bowling Center', 'image_url': 'https://s3-media3.fl.yelpcdn.com/bphoto/bljX9BsI-XmK-vRhkiRAbA/o.jpg', 'is_closed': False, 'url': 'https://www.yelp.com/biz/pinz-bowling-center-studio-city?adjust_creative=qoZ4j1UIe7DUt0-kfp0WQw&utm_campaign=yelp_api_v3&utm_medium=api_v3_business_search&utm_source=qoZ4j1UIe7DUt0-kfp0WQw', 'review_count': 671, 'categories': [{'alias': 'bowling', 'title': 'Bowling'}, {'alias': 'arcades', 'title': 'Arcades'}], 'rating': 3.5, 'coordinates': {'latitude': 34.144768, 'longitude': -118.4087341}, 'transactions': [], 'location': {'address1': '12655 Ventura Blvd', 'address2': '', 'address3': '', 'city': 'Studio City', 'zip_code': '91604', 'country': 'US', 'state': 'CA', 'display_address': ['12655 Ventura Blvd', 'Studio City, CA 91604']}, 'phone': '+18187697600', 'display_phone': '(818) 769-7600', 'distance': 11671.619167930849}\n",
      "{'id': 'ybf5brJqdGzKSH0OGf0XdQ', 'alias': 'the-one-up-sherman-oaks', 'name': 'The One Up', 'image_url': 'https://s3-media1.fl.yelpcdn.com/bphoto/98i1sB_uyEuUnpVcwwhULg/o.jpg', 'is_closed': False, 'url': 'https://www.yelp.com/biz/the-one-up-sherman-oaks?adjust_creative=qoZ4j1UIe7DUt0-kfp0WQw&utm_campaign=yelp_api_v3&utm_medium=api_v3_business_search&utm_source=qoZ4j1UIe7DUt0-kfp0WQw', 'review_count': 839, 'categories': [{'alias': 'arcades', 'title': 'Arcades'}, {'alias': 'gastropubs', 'title': 'Gastropubs'}], 'rating': 4.0, 'coordinates': {'latitude': 34.148279, 'longitude': -118.43042}, 'transactions': ['delivery'], 'price': '$$', 'location': {'address1': '13625 Ventura Blvd', 'address2': '', 'address3': '', 'city': 'Sherman Oaks', 'zip_code': '91423', 'country': 'US', 'state': 'CA', 'display_address': ['13625 Ventura Blvd', 'Sherman Oaks, CA 91423']}, 'phone': '+18188495181', 'display_phone': '(818) 849-5181', 'distance': 11789.105274092755}\n",
      "{'id': 'rAg1vWj3YRPd3OXRNg3Qvg', 'alias': 'arcave-room-glendale', 'name': 'Arcave Room', 'image_url': 'https://s3-media3.fl.yelpcdn.com/bphoto/YQl-ZDBGRmB_KUIyFZ9tNw/o.jpg', 'is_closed': False, 'url': 'https://www.yelp.com/biz/arcave-room-glendale?adjust_creative=qoZ4j1UIe7DUt0-kfp0WQw&utm_campaign=yelp_api_v3&utm_medium=api_v3_business_search&utm_source=qoZ4j1UIe7DUt0-kfp0WQw', 'review_count': 53, 'categories': [{'alias': 'arcades', 'title': 'Arcades'}, {'alias': 'venues', 'title': 'Venues & Event Spaces'}, {'alias': 'indoor_playcenter', 'title': 'Indoor Playcentre'}], 'rating': 4.5, 'coordinates': {'latitude': 34.23709, 'longitude': -118.26014}, 'transactions': [], 'location': {'address1': '3725 Foothill Blvd', 'address2': 'Unit O', 'address3': '', 'city': 'Glendale', 'zip_code': '91214', 'country': 'US', 'state': 'CA', 'display_address': ['3725 Foothill Blvd', 'Unit O', 'Glendale, CA 91214']}, 'phone': '+18885052283', 'display_phone': '(888) 505-2283', 'distance': 11819.10501465858}\n",
      "{'id': 'qlyoGeWCHlxmxb3HN6MNhg', 'alias': 'the-ultimate-video-game-bus-studio-city', 'name': 'The Ultimate Video Game Bus', 'image_url': 'https://s3-media1.fl.yelpcdn.com/bphoto/I2YVSuRsKhjMMl01xQDUgQ/o.jpg', 'is_closed': False, 'url': 'https://www.yelp.com/biz/the-ultimate-video-game-bus-studio-city?adjust_creative=qoZ4j1UIe7DUt0-kfp0WQw&utm_campaign=yelp_api_v3&utm_medium=api_v3_business_search&utm_source=qoZ4j1UIe7DUt0-kfp0WQw', 'review_count': 27, 'categories': [{'alias': 'arcades', 'title': 'Arcades'}, {'alias': 'gametruckrental', 'title': 'Game Truck Rental'}], 'rating': 5.0, 'coordinates': {'latitude': 34.1407772, 'longitude': -118.3874262}, 'transactions': [], 'location': {'address1': '11684 Ventura Blvd', 'address2': 'Ste 851', 'address3': '', 'city': 'Studio City', 'zip_code': '91604', 'country': 'US', 'state': 'CA', 'display_address': ['11684 Ventura Blvd', 'Ste 851', 'Studio City, CA 91604']}, 'phone': '+18882724869', 'display_phone': '(888) 272-4869', 'distance': 11958.2114038953}\n",
      "{'id': 'pFa-GzWnbMW_rpJ5-QVI2g', 'alias': 'sherman-oaks-castle-park-sherman-oaks', 'name': 'Sherman Oaks Castle Park', 'image_url': 'https://s3-media3.fl.yelpcdn.com/bphoto/Ch4rKv5TQqR_SZ6LTG9lwQ/o.jpg', 'is_closed': False, 'url': 'https://www.yelp.com/biz/sherman-oaks-castle-park-sherman-oaks?adjust_creative=qoZ4j1UIe7DUt0-kfp0WQw&utm_campaign=yelp_api_v3&utm_medium=api_v3_business_search&utm_source=qoZ4j1UIe7DUt0-kfp0WQw', 'review_count': 705, 'categories': [{'alias': 'mini_golf', 'title': 'Mini Golf'}, {'alias': 'venues', 'title': 'Venues & Event Spaces'}, {'alias': 'arcades', 'title': 'Arcades'}], 'rating': 3.5, 'coordinates': {'latitude': 34.161623813092625, 'longitude': -118.46754444110775}, 'transactions': [], 'location': {'address1': '4989 Sepulveda Blvd', 'address2': '', 'address3': '', 'city': 'Sherman Oaks', 'zip_code': '91403', 'country': 'US', 'state': 'CA', 'display_address': ['4989 Sepulveda Blvd', 'Sherman Oaks, CA 91403']}, 'phone': '+18187569459', 'display_phone': '(818) 756-9459', 'distance': 12102.860593992711}\n",
      "{'id': 'Kpx0wfed2tHZdvQz3bf45A', 'alias': 'chuck-e-cheese-northridge', 'name': 'Chuck E. Cheese', 'image_url': 'https://s3-media4.fl.yelpcdn.com/bphoto/X6AozjH7bV3CqNhSSM-EoQ/o.jpg', 'is_closed': False, 'url': 'https://www.yelp.com/biz/chuck-e-cheese-northridge?adjust_creative=qoZ4j1UIe7DUt0-kfp0WQw&utm_campaign=yelp_api_v3&utm_medium=api_v3_business_search&utm_source=qoZ4j1UIe7DUt0-kfp0WQw', 'review_count': 120, 'categories': [{'alias': 'pizza', 'title': 'Pizza'}, {'alias': 'arcades', 'title': 'Arcades'}, {'alias': 'kids_activities', 'title': 'Kids Activities'}], 'rating': 3.5, 'coordinates': {'latitude': 34.223491, 'longitude': -118.536612}, 'transactions': ['pickup', 'delivery'], 'price': '$$', 'location': {'address1': '8425 Reseda Blvd', 'address2': '', 'address3': '', 'city': 'Northridge', 'zip_code': '91324', 'country': 'US', 'state': 'CA', 'display_address': ['8425 Reseda Blvd', 'Northridge, CA 91324']}, 'phone': '+18189933447', 'display_phone': '(818) 993-3447', 'distance': 13940.322601243835}\n",
      "{'id': 'JWUY1WdKwJ3GhomvfoTEBw', 'alias': 'dave-and-busters-northridge-2', 'name': \"Dave & Buster's Northridge\", 'image_url': 'https://s3-media4.fl.yelpcdn.com/bphoto/Dca7TdK0VBxsISeYTUWkow/o.jpg', 'is_closed': False, 'url': 'https://www.yelp.com/biz/dave-and-busters-northridge-2?adjust_creative=qoZ4j1UIe7DUt0-kfp0WQw&utm_campaign=yelp_api_v3&utm_medium=api_v3_business_search&utm_source=qoZ4j1UIe7DUt0-kfp0WQw', 'review_count': 1144, 'categories': [{'alias': 'arcades', 'title': 'Arcades'}, {'alias': 'bars', 'title': 'Bars'}, {'alias': 'tradamerican', 'title': 'American (Traditional)'}], 'rating': 2.5, 'coordinates': {'latitude': 34.240622, 'longitude': -118.555769}, 'transactions': ['pickup', 'delivery'], 'price': '$$', 'location': {'address1': '9301 Tampa Ave', 'address2': 'Ste 212', 'address3': None, 'city': 'Northridge', 'zip_code': '91324', 'country': 'US', 'state': 'CA', 'display_address': ['9301 Tampa Ave', 'Ste 212', 'Northridge, CA 91324']}, 'phone': '+18187393100', 'display_phone': '(818) 739-3100', 'distance': 15447.437082780752}\n",
      "{'id': '6en266xLg5VJaJKJP2bVUg', 'alias': 'xdream-amusement-glendale', 'name': 'XDream Amusement', 'image_url': 'https://s3-media2.fl.yelpcdn.com/bphoto/dV5kP_0ICe3LkDoSvu_twg/o.jpg', 'is_closed': False, 'url': 'https://www.yelp.com/biz/xdream-amusement-glendale?adjust_creative=qoZ4j1UIe7DUt0-kfp0WQw&utm_campaign=yelp_api_v3&utm_medium=api_v3_business_search&utm_source=qoZ4j1UIe7DUt0-kfp0WQw', 'review_count': 18, 'categories': [{'alias': 'virtualrealitycenters', 'title': 'Virtual Reality Centers'}, {'alias': 'arcades', 'title': 'Arcades'}], 'rating': 5.0, 'coordinates': {'latitude': 34.20121831782277, 'longitude': -118.2281289}, 'transactions': [], 'location': {'address1': '3430 Ocean View Blvd', 'address2': None, 'address3': '', 'city': 'Glendale', 'zip_code': '91208', 'country': 'US', 'state': 'CA', 'display_address': ['3430 Ocean View Blvd', 'Glendale, CA 91208']}, 'phone': '+18183307181', 'display_phone': '(818) 330-7181', 'distance': 15601.284933870453}\n",
      "{'id': 'IH6RuEBvws3dft3yVKDvcw', 'alias': 'los-virtuality-virtual-reality-gaming-center-northridge', 'name': 'Los Virtuality - Virtual Reality Gaming Center', 'image_url': 'https://s3-media4.fl.yelpcdn.com/bphoto/pqxYrltrgC5eaXAEIqyByQ/o.jpg', 'is_closed': False, 'url': 'https://www.yelp.com/biz/los-virtuality-virtual-reality-gaming-center-northridge?adjust_creative=qoZ4j1UIe7DUt0-kfp0WQw&utm_campaign=yelp_api_v3&utm_medium=api_v3_business_search&utm_source=qoZ4j1UIe7DUt0-kfp0WQw', 'review_count': 11, 'categories': [{'alias': 'virtualrealitycenters', 'title': 'Virtual Reality Centers'}, {'alias': 'arcades', 'title': 'Arcades'}, {'alias': 'kids_activities', 'title': 'Kids Activities'}], 'rating': 4.0, 'coordinates': {'latitude': 34.2338100588735, 'longitude': -118.5584577894089}, 'transactions': [], 'location': {'address1': '19520 Nordhoff St', 'address2': None, 'address3': '', 'city': 'Northridge', 'zip_code': '91324', 'country': 'US', 'state': 'CA', 'display_address': ['19520 Nordhoff St', 'Northridge, CA 91324']}, 'phone': '+18189605591', 'display_phone': '(818) 960-5591', 'distance': 15754.317074493494}\n",
      "{'id': '7ns9O5rqyrTdIj64FV6Wfw', 'alias': 'next-tech-vr-games-4-kids-glendale', 'name': 'Next Tech VR Games 4 Kids', 'image_url': 'https://s3-media1.fl.yelpcdn.com/bphoto/1TyR9MNsf3SYl2wTUfX8kw/o.jpg', 'is_closed': False, 'url': 'https://www.yelp.com/biz/next-tech-vr-games-4-kids-glendale?adjust_creative=qoZ4j1UIe7DUt0-kfp0WQw&utm_campaign=yelp_api_v3&utm_medium=api_v3_business_search&utm_source=qoZ4j1UIe7DUt0-kfp0WQw', 'review_count': 1, 'categories': [{'alias': 'arcades', 'title': 'Arcades'}, {'alias': 'kids_activities', 'title': 'Kids Activities'}], 'rating': 1.0, 'coordinates': {'latitude': 34.1448511961248, 'longitude': -118.25937874938}, 'transactions': [], 'location': {'address1': '2142 Glendale Galleria', 'address2': '', 'address3': None, 'city': 'Glendale', 'zip_code': '91210', 'country': 'US', 'state': 'CA', 'display_address': ['2142 Glendale Galleria', 'Glendale, CA 91210']}, 'phone': '+18006329419', 'display_phone': '(800) 632-9419', 'distance': 16499.683729059292}\n",
      "{'id': 'U18ElEXe0N66EBxoHcfZ9Q', 'alias': 'planet-x-glendale', 'name': 'Planet X', 'image_url': 'https://s3-media3.fl.yelpcdn.com/bphoto/b1h9oKxDbXZ6QICdG1GmfQ/o.jpg', 'is_closed': False, 'url': 'https://www.yelp.com/biz/planet-x-glendale?adjust_creative=qoZ4j1UIe7DUt0-kfp0WQw&utm_campaign=yelp_api_v3&utm_medium=api_v3_business_search&utm_source=qoZ4j1UIe7DUt0-kfp0WQw', 'review_count': 10, 'categories': [{'alias': 'arcades', 'title': 'Arcades'}], 'rating': 2.5, 'coordinates': {'latitude': 34.144853166562896, 'longitude': -118.25633041104437}, 'transactions': [], 'location': {'address1': '3216 Glendale Galleria', 'address2': '', 'address3': '', 'city': 'Glendale', 'zip_code': '91210', 'country': 'US', 'state': 'CA', 'display_address': ['3216 Glendale Galleria', 'Glendale, CA 91210']}, 'phone': '+18185472774', 'display_phone': '(818) 547-2774', 'distance': 16701.6337744217}\n",
      "{'id': 'CuKcYdwGB2oBfYarTX0Udw', 'alias': 'dave-and-busters-hollywood', 'name': \"Dave & Buster's Hollywood\", 'image_url': 'https://s3-media1.fl.yelpcdn.com/bphoto/PTu_WZTxHxR5XskJWCZcNA/o.jpg', 'is_closed': False, 'url': 'https://www.yelp.com/biz/dave-and-busters-hollywood?adjust_creative=qoZ4j1UIe7DUt0-kfp0WQw&utm_campaign=yelp_api_v3&utm_medium=api_v3_business_search&utm_source=qoZ4j1UIe7DUt0-kfp0WQw', 'review_count': 520, 'categories': [{'alias': 'bars', 'title': 'Bars'}, {'alias': 'arcades', 'title': 'Arcades'}, {'alias': 'tradamerican', 'title': 'American (Traditional)'}], 'rating': 2.5, 'coordinates': {'latitude': 26.04018072363192, 'longitude': -80.16221145928438}, 'transactions': ['delivery'], 'price': '$$', 'location': {'address1': '3000 Oakwood Blvd', 'address2': '', 'address3': '', 'city': 'Hollywood', 'zip_code': '33020', 'country': 'US', 'state': 'FL', 'display_address': ['3000 Oakwood Blvd', 'Hollywood, FL 33020']}, 'phone': '+19549235505', 'display_phone': '(954) 923-5505', 'distance': 16760.383145637283}\n",
      "{'id': 'HEZxCfaBphfKhv6ZdG77_g', 'alias': 'dave-and-busters-los-angeles-25', 'name': \"Dave & Buster's Los Angeles - Hollywood\", 'image_url': 'https://s3-media1.fl.yelpcdn.com/bphoto/r2c4Iv5kRpN-YFA_QVh3WA/o.jpg', 'is_closed': False, 'url': 'https://www.yelp.com/biz/dave-and-busters-los-angeles-25?adjust_creative=qoZ4j1UIe7DUt0-kfp0WQw&utm_campaign=yelp_api_v3&utm_medium=api_v3_business_search&utm_source=qoZ4j1UIe7DUt0-kfp0WQw', 'review_count': 1224, 'categories': [{'alias': 'bars', 'title': 'Bars'}, {'alias': 'arcades', 'title': 'Arcades'}, {'alias': 'tradamerican', 'title': 'American (Traditional)'}], 'rating': 3.0, 'coordinates': {'latitude': 34.10275964191564, 'longitude': -118.34042815767444}, 'transactions': ['pickup', 'delivery'], 'price': '$$', 'location': {'address1': '6801 Hollywood Blvd', 'address2': 'Ste C3-343', 'address3': '', 'city': 'Los Angeles', 'zip_code': '90028', 'country': 'US', 'state': 'CA', 'display_address': ['6801 Hollywood Blvd', 'Ste C3-343', 'Los Angeles, CA 90028']}, 'phone': '+13236032400', 'display_phone': '(323) 603-2400', 'distance': 16765.983089146725}\n",
      "{'id': 'YH-_L1S4TgPxGUcI7yyeUw', 'alias': 'vintage-arcade-superstore-glendale', 'name': 'Vintage Arcade Superstore', 'image_url': 'https://s3-media4.fl.yelpcdn.com/bphoto/kgMsshVQJXjxa-_o8vmQkA/o.jpg', 'is_closed': False, 'url': 'https://www.yelp.com/biz/vintage-arcade-superstore-glendale?adjust_creative=qoZ4j1UIe7DUt0-kfp0WQw&utm_campaign=yelp_api_v3&utm_medium=api_v3_business_search&utm_source=qoZ4j1UIe7DUt0-kfp0WQw', 'review_count': 29, 'categories': [{'alias': 'videoandgames', 'title': 'Videos & Video Game Rental'}, {'alias': 'arcades', 'title': 'Arcades'}, {'alias': 'videogamestores', 'title': 'Video Game Stores'}], 'rating': 4.5, 'coordinates': {'latitude': 34.1317769140005, 'longitude': -118.261534497142}, 'transactions': [], 'price': '$$$', 'location': {'address1': '4334 San Fernando Rd', 'address2': '', 'address3': '', 'city': 'Glendale', 'zip_code': '91204', 'country': 'US', 'state': 'CA', 'display_address': ['4334 San Fernando Rd', 'Glendale, CA 91204']}, 'phone': '+18182462255', 'display_phone': '(818) 246-2255', 'distance': 17411.941078763593}\n",
      "{'id': 'K8cKt7RvEX4gDwl22_9LtQ', 'alias': 'chuck-e-cheese-los-angeles-4', 'name': 'Chuck E Cheese', 'image_url': 'https://s3-media2.fl.yelpcdn.com/bphoto/RK2I33pKEZuwSmpMfFIrqA/o.jpg', 'is_closed': False, 'url': 'https://www.yelp.com/biz/chuck-e-cheese-los-angeles-4?adjust_creative=qoZ4j1UIe7DUt0-kfp0WQw&utm_campaign=yelp_api_v3&utm_medium=api_v3_business_search&utm_source=qoZ4j1UIe7DUt0-kfp0WQw', 'review_count': 136, 'categories': [{'alias': 'pizza', 'title': 'Pizza'}, {'alias': 'arcades', 'title': 'Arcades'}, {'alias': 'kids_activities', 'title': 'Kids Activities'}], 'rating': 2.5, 'coordinates': {'latitude': 34.14138, 'longitude': -118.22585}, 'transactions': ['pickup', 'delivery'], 'price': '$$', 'location': {'address1': '2700 Colorado Blvd', 'address2': '', 'address3': 'Westfield Shopping Center', 'city': 'Los Angeles', 'zip_code': '90041', 'country': 'US', 'state': 'CA', 'display_address': ['2700 Colorado Blvd', 'Westfield Shopping Center', 'Los Angeles, CA 90041']}, 'phone': '+13235515994', 'display_phone': '(323) 551-5994', 'distance': 19163.371894781325}\n",
      "{'id': 'XDYI2yOzJK5mk7FMJWGOyQ', 'alias': 'family-arcade-la-los-angeles', 'name': 'Family Arcade LA', 'image_url': 'https://s3-media1.fl.yelpcdn.com/bphoto/i1brtRttErbY-udL39XxSA/o.jpg', 'is_closed': False, 'url': 'https://www.yelp.com/biz/family-arcade-la-los-angeles?adjust_creative=qoZ4j1UIe7DUt0-kfp0WQw&utm_campaign=yelp_api_v3&utm_medium=api_v3_business_search&utm_source=qoZ4j1UIe7DUt0-kfp0WQw', 'review_count': 244, 'categories': [{'alias': 'arcades', 'title': 'Arcades'}, {'alias': 'videoandgames', 'title': 'Videos & Video Game Rental'}, {'alias': 'videogamestores', 'title': 'Video Game Stores'}], 'rating': 4.0, 'coordinates': {'latitude': 34.08752, 'longitude': -118.29134}, 'transactions': [], 'price': '$', 'location': {'address1': '876 N Vermont Ave', 'address2': '', 'address3': '', 'city': 'Los Angeles', 'zip_code': '90029', 'country': 'US', 'state': 'CA', 'display_address': ['876 N Vermont Ave', 'Los Angeles, CA 90029']}, 'phone': '+13236608180', 'display_phone': '(323) 660-8180', 'distance': 19962.30664917167}\n",
      "{'id': 'yJmz6rkzPgbNVIZLne_r4w', 'alias': 'off-the-wall-gamezone-los-angeles', 'name': 'Off The Wall GameZone', 'image_url': 'https://s3-media1.fl.yelpcdn.com/bphoto/SvVjWxrzwT5bL_OUnRZ-dQ/o.jpg', 'is_closed': False, 'url': 'https://www.yelp.com/biz/off-the-wall-gamezone-los-angeles?adjust_creative=qoZ4j1UIe7DUt0-kfp0WQw&utm_campaign=yelp_api_v3&utm_medium=api_v3_business_search&utm_source=qoZ4j1UIe7DUt0-kfp0WQw', 'review_count': 59, 'categories': [{'alias': 'arcades', 'title': 'Arcades'}, {'alias': 'trampoline', 'title': 'Trampoline Parks'}, {'alias': 'lasertag', 'title': 'Laser Tag'}], 'rating': 3.0, 'coordinates': {'latitude': 34.180887, 'longitude': -118.591113}, 'transactions': [], 'location': {'address1': '6051 De Soto Ave', 'address2': '', 'address3': None, 'city': 'Los Angeles', 'zip_code': '91367', 'country': 'US', 'state': 'CA', 'display_address': ['6051 De Soto Ave', 'Los Angeles, CA 91367']}, 'phone': '+18185950000', 'display_phone': '(818) 595-0000', 'distance': 20131.68249977366}\n",
      "{'id': 'GlJnuzAkyCMhL7WT0LgNEA', 'alias': 'mobile-amusement-canyon-country', 'name': 'Mobile Amusement', 'image_url': 'https://s3-media1.fl.yelpcdn.com/bphoto/UwyBp5PBRJOH_FtlAP5lRA/o.jpg', 'is_closed': False, 'url': 'https://www.yelp.com/biz/mobile-amusement-canyon-country?adjust_creative=qoZ4j1UIe7DUt0-kfp0WQw&utm_campaign=yelp_api_v3&utm_medium=api_v3_business_search&utm_source=qoZ4j1UIe7DUt0-kfp0WQw', 'review_count': 1, 'categories': [{'alias': 'arcades', 'title': 'Arcades'}], 'rating': 5.0, 'coordinates': {'latitude': 34.415953, 'longitude': -118.475067}, 'transactions': [], 'location': {'address1': '19425-B Soledad Canyon Rd', 'address2': 'Unit 163', 'address3': '', 'city': 'Canyon Country', 'zip_code': '91351', 'country': 'US', 'state': 'CA', 'display_address': ['19425-B Soledad Canyon Rd', 'Unit 163', 'Canyon Country, CA 91351']}, 'phone': '+18188855050', 'display_phone': '(818) 885-5050', 'distance': 20283.18572139788}\n",
      "{'id': 'w7HHYYV3AKc4OE2GR5iMDA', 'alias': 'revenge-of-los-angeles', 'name': 'Revenge Of', 'image_url': 'https://s3-media3.fl.yelpcdn.com/bphoto/D3-pI8XiFOI0-y2nAfDVmQ/o.jpg', 'is_closed': False, 'url': 'https://www.yelp.com/biz/revenge-of-los-angeles?adjust_creative=qoZ4j1UIe7DUt0-kfp0WQw&utm_campaign=yelp_api_v3&utm_medium=api_v3_business_search&utm_source=qoZ4j1UIe7DUt0-kfp0WQw', 'review_count': 33, 'categories': [{'alias': 'comicbooks', 'title': 'Comic Books'}, {'alias': 'toys', 'title': 'Toy Stores'}, {'alias': 'arcades', 'title': 'Arcades'}], 'rating': 5.0, 'coordinates': {'latitude': 34.1145, 'longitude': -118.23591}, 'transactions': [], 'location': {'address1': '3420 Eagle Rock Blvd', 'address2': 'Ste A', 'address3': '', 'city': 'Los Angeles', 'zip_code': '90065', 'country': 'US', 'state': 'CA', 'display_address': ['3420 Eagle Rock Blvd', 'Ste A', 'Los Angeles, CA 90065']}, 'phone': '+13235613017', 'display_phone': '(323) 561-3017', 'distance': 20420.881639038154}\n",
      "{'id': 'sdAdLG13N-461U3StnQTvg', 'alias': 'awesome-game-truck-to-you-woodland-hills', 'name': 'Awesome Game Truck To You', 'image_url': 'https://s3-media3.fl.yelpcdn.com/bphoto/acdrazL164OJcRut2lcVkg/o.jpg', 'is_closed': False, 'url': 'https://www.yelp.com/biz/awesome-game-truck-to-you-woodland-hills?adjust_creative=qoZ4j1UIe7DUt0-kfp0WQw&utm_campaign=yelp_api_v3&utm_medium=api_v3_business_search&utm_source=qoZ4j1UIe7DUt0-kfp0WQw', 'review_count': 19, 'categories': [{'alias': 'gametruckrental', 'title': 'Game Truck Rental'}, {'alias': 'arcades', 'title': 'Arcades'}], 'rating': 4.5, 'coordinates': {'latitude': 34.18138, 'longitude': -118.60601}, 'transactions': [], 'location': {'address1': None, 'address2': None, 'address3': '', 'city': 'Woodland hills', 'zip_code': '91367', 'country': 'US', 'state': 'CA', 'display_address': ['Woodland hills, CA 91367']}, 'phone': '+18185776177', 'display_phone': '(818) 577-6177', 'distance': 20754.32035515466}\n",
      "{'id': 'grsZ_TNsrZGUAWEKB7qFxA', 'alias': 'buby-net-los-angeles', 'name': 'Buby Net', 'image_url': '', 'is_closed': False, 'url': 'https://www.yelp.com/biz/buby-net-los-angeles?adjust_creative=qoZ4j1UIe7DUt0-kfp0WQw&utm_campaign=yelp_api_v3&utm_medium=api_v3_business_search&utm_source=qoZ4j1UIe7DUt0-kfp0WQw', 'review_count': 3, 'categories': [{'alias': 'arcades', 'title': 'Arcades'}], 'rating': 2.5, 'coordinates': {'latitude': 34.062113, 'longitude': -118.3135865}, 'transactions': [], 'location': {'address1': '3959 Wilshire Blvd', 'address2': '', 'address3': '', 'city': 'Los Angeles', 'zip_code': '90010', 'country': 'US', 'state': 'CA', 'display_address': ['3959 Wilshire Blvd', 'Los Angeles, CA 90010']}, 'phone': '+12133838720', 'display_phone': '(213) 383-8720', 'distance': 21807.150672337502}\n",
      "{'id': 'ADUjHqJza827i0VZ_tUqbg', 'alias': 'shatto-39-lanes-los-angeles', 'name': 'Shatto 39 Lanes', 'image_url': 'https://s3-media4.fl.yelpcdn.com/bphoto/_qNiLMbjoBB0Dj8BbvTKyA/o.jpg', 'is_closed': False, 'url': 'https://www.yelp.com/biz/shatto-39-lanes-los-angeles?adjust_creative=qoZ4j1UIe7DUt0-kfp0WQw&utm_campaign=yelp_api_v3&utm_medium=api_v3_business_search&utm_source=qoZ4j1UIe7DUt0-kfp0WQw', 'review_count': 539, 'categories': [{'alias': 'bowling', 'title': 'Bowling'}, {'alias': 'bars', 'title': 'Bars'}, {'alias': 'arcades', 'title': 'Arcades'}], 'rating': 3.5, 'coordinates': {'latitude': 34.0674441256501, 'longitude': -118.290937503952}, 'transactions': [], 'price': '$', 'location': {'address1': '3255 W 4th St', 'address2': '', 'address3': '', 'city': 'Los Angeles', 'zip_code': '90020', 'country': 'US', 'state': 'CA', 'display_address': ['3255 W 4th St', 'Los Angeles, CA 90020']}, 'phone': '+12133859475', 'display_phone': '(213) 385-9475', 'distance': 22005.064808235933}\n",
      "{'id': 'B-xXZaGWQgi3jRCME2_xpg', 'alias': 'ayce-gogi-west-hills-west-hills', 'name': 'AYCE Gogi - West Hills', 'image_url': 'https://s3-media1.fl.yelpcdn.com/bphoto/4d-vRUQixWI8Ibk8mBAgnQ/o.jpg', 'is_closed': False, 'url': 'https://www.yelp.com/biz/ayce-gogi-west-hills-west-hills?adjust_creative=qoZ4j1UIe7DUt0-kfp0WQw&utm_campaign=yelp_api_v3&utm_medium=api_v3_business_search&utm_source=qoZ4j1UIe7DUt0-kfp0WQw', 'review_count': 485, 'categories': [{'alias': 'korean', 'title': 'Korean'}, {'alias': 'bbq', 'title': 'Barbeque'}, {'alias': 'arcades', 'title': 'Arcades'}], 'rating': 3.5, 'coordinates': {'latitude': 34.191817, 'longitude': -118.623956}, 'transactions': [], 'price': '$$', 'location': {'address1': '6705 Fallbrook Ave', 'address2': '', 'address3': None, 'city': 'West Hills', 'zip_code': '91307', 'country': 'US', 'state': 'CA', 'display_address': ['6705 Fallbrook Ave', 'West Hills, CA 91307']}, 'phone': '+18187162707', 'display_phone': '(818) 716-2707', 'distance': 22587.65451648275}\n",
      "{'id': 'WdE0FnB5ck-INdQfD_wveQ', 'alias': 'chuck-e-cheese-west-hills', 'name': 'Chuck E. Cheese', 'image_url': 'https://s3-media3.fl.yelpcdn.com/bphoto/gRPpN1C7FUs2zQC4j9RWAw/o.jpg', 'is_closed': False, 'url': 'https://www.yelp.com/biz/chuck-e-cheese-west-hills?adjust_creative=qoZ4j1UIe7DUt0-kfp0WQw&utm_campaign=yelp_api_v3&utm_medium=api_v3_business_search&utm_source=qoZ4j1UIe7DUt0-kfp0WQw', 'review_count': 154, 'categories': [{'alias': 'pizza', 'title': 'Pizza'}, {'alias': 'arcades', 'title': 'Arcades'}, {'alias': 'kids_activities', 'title': 'Kids Activities'}], 'rating': 3.0, 'coordinates': {'latitude': 34.1921453563946, 'longitude': -118.627058123699}, 'transactions': ['pickup', 'delivery'], 'price': '$$', 'location': {'address1': '22940 Van Owen St', 'address2': '', 'address3': '', 'city': 'West Hills', 'zip_code': '91307', 'country': 'US', 'state': 'CA', 'display_address': ['22940 Van Owen St', 'West Hills, CA 91307']}, 'phone': '+18187139797', 'display_phone': '(818) 713-9797', 'distance': 22853.00516526816}\n",
      "{'id': 'Xb-6EeykOMkyWH83dHx4OA', 'alias': 'barcade-los-angeles-2', 'name': 'Barcade', 'image_url': 'https://s3-media4.fl.yelpcdn.com/bphoto/9uZEOOy4AmK8jl52iGtgEQ/o.jpg', 'is_closed': False, 'url': 'https://www.yelp.com/biz/barcade-los-angeles-2?adjust_creative=qoZ4j1UIe7DUt0-kfp0WQw&utm_campaign=yelp_api_v3&utm_medium=api_v3_business_search&utm_source=qoZ4j1UIe7DUt0-kfp0WQw', 'review_count': 151, 'categories': [{'alias': 'bars', 'title': 'Bars'}, {'alias': 'arcades', 'title': 'Arcades'}, {'alias': 'newamerican', 'title': 'American (New)'}], 'rating': 4.0, 'coordinates': {'latitude': 34.11861, 'longitude': -118.19423}, 'transactions': ['delivery'], 'price': '$$', 'location': {'address1': '5684 York Blvd', 'address2': None, 'address3': '', 'city': 'Los Angeles', 'zip_code': '90042', 'country': 'US', 'state': 'CA', 'display_address': ['5684 York Blvd', 'Los Angeles, CA 90042']}, 'phone': '+13232744798', 'display_phone': '(323) 274-4798', 'distance': 22940.697391001686}\n",
      "{'id': 'H4ew518bqV4ew61g-brTrQ', 'alias': 'button-mash-los-angeles', 'name': 'Button Mash', 'image_url': 'https://s3-media1.fl.yelpcdn.com/bphoto/O5_fgVQJXqpWhIVUkODf3Q/o.jpg', 'is_closed': False, 'url': 'https://www.yelp.com/biz/button-mash-los-angeles?adjust_creative=qoZ4j1UIe7DUt0-kfp0WQw&utm_campaign=yelp_api_v3&utm_medium=api_v3_business_search&utm_source=qoZ4j1UIe7DUt0-kfp0WQw', 'review_count': 668, 'categories': [{'alias': 'bars', 'title': 'Bars'}, {'alias': 'arcades', 'title': 'Arcades'}, {'alias': 'mexican', 'title': 'Mexican'}], 'rating': 4.0, 'coordinates': {'latitude': 34.073949300225394, 'longitude': -118.25160456566232}, 'transactions': ['pickup', 'delivery'], 'price': '$$', 'location': {'address1': '1391 Sunset Blvd', 'address2': '', 'address3': '', 'city': 'Los Angeles', 'zip_code': '90026', 'country': 'US', 'state': 'CA', 'display_address': ['1391 Sunset Blvd', 'Los Angeles, CA 90026']}, 'phone': '+12132509903', 'display_phone': '(213) 250-9903', 'distance': 23094.628919258954}\n",
      "{'id': '5bB6BeqxWVWo-aLHEOC_kw', 'alias': 'chuck-e-cheese-valencia', 'name': 'Chuck E. Cheese', 'image_url': 'https://s3-media3.fl.yelpcdn.com/bphoto/VSHmnXnH4uklMbTjcCd55g/o.jpg', 'is_closed': False, 'url': 'https://www.yelp.com/biz/chuck-e-cheese-valencia?adjust_creative=qoZ4j1UIe7DUt0-kfp0WQw&utm_campaign=yelp_api_v3&utm_medium=api_v3_business_search&utm_source=qoZ4j1UIe7DUt0-kfp0WQw', 'review_count': 172, 'categories': [{'alias': 'pizza', 'title': 'Pizza'}, {'alias': 'arcades', 'title': 'Arcades'}, {'alias': 'kids_activities', 'title': 'Kids Activities'}], 'rating': 2.5, 'coordinates': {'latitude': 34.3927207068201, 'longitude': -118.575047853866}, 'transactions': ['pickup', 'delivery'], 'price': '$$', 'location': {'address1': '25955 North The Old Rd', 'address2': '', 'address3': '', 'city': 'Valencia', 'zip_code': '91381', 'country': 'US', 'state': 'CA', 'display_address': ['25955 North The Old Rd', 'Valencia, CA 91381']}, 'phone': '+16612601773', 'display_phone': '(661) 260-1773', 'distance': 23515.48278561098}\n",
      "{'id': 'aDlnYAMx9xmsCr_-_UbaJg', 'alias': 'jimenez-arcade-los-angeles-2', 'name': 'Jimenez Arcade', 'image_url': 'https://s3-media3.fl.yelpcdn.com/bphoto/iBIs97c0AhVQsYiQH_u0fg/o.jpg', 'is_closed': False, 'url': 'https://www.yelp.com/biz/jimenez-arcade-los-angeles-2?adjust_creative=qoZ4j1UIe7DUt0-kfp0WQw&utm_campaign=yelp_api_v3&utm_medium=api_v3_business_search&utm_source=qoZ4j1UIe7DUt0-kfp0WQw', 'review_count': 2, 'categories': [{'alias': 'arcades', 'title': 'Arcades'}, {'alias': 'poolhalls', 'title': 'Pool Halls'}], 'rating': 3.0, 'coordinates': {'latitude': 34.0567434, 'longitude': -118.277719}, 'transactions': [], 'location': {'address1': '2128 W 7th St', 'address2': '', 'address3': '', 'city': 'Los Angeles', 'zip_code': '90057', 'country': 'US', 'state': 'CA', 'display_address': ['2128 W 7th St', 'Los Angeles, CA 90057']}, 'phone': '+12137136262', 'display_phone': '(213) 713-6262', 'distance': 23593.661252109556}\n",
      "{'id': 'CSoPJdhYI3GiEvM_GonoRQ', 'alias': 'los-virtuality-virtual-reality-gaming-center-los-angeles-2', 'name': 'Los Virtuality - Virtual Reality Gaming Center', 'image_url': 'https://s3-media4.fl.yelpcdn.com/bphoto/mW52N8LdeMIKBJnzTy7vgQ/o.jpg', 'is_closed': False, 'url': 'https://www.yelp.com/biz/los-virtuality-virtual-reality-gaming-center-los-angeles-2?adjust_creative=qoZ4j1UIe7DUt0-kfp0WQw&utm_campaign=yelp_api_v3&utm_medium=api_v3_business_search&utm_source=qoZ4j1UIe7DUt0-kfp0WQw', 'review_count': 192, 'categories': [{'alias': 'virtualrealitycenters', 'title': 'Virtual Reality Centers'}, {'alias': 'teambuilding', 'title': 'Team Building Activities'}, {'alias': 'arcades', 'title': 'Arcades'}], 'rating': 5.0, 'coordinates': {'latitude': 34.04208, 'longitude': -118.46086383}, 'transactions': [], 'location': {'address1': '11901 Santa Monica Blvd', 'address2': 'Ste 204', 'address3': 'Vinci Plaza', 'city': 'Los Angeles', 'zip_code': '90025', 'country': 'US', 'state': 'CA', 'display_address': ['11901 Santa Monica Blvd', 'Ste 204', 'Vinci Plaza', 'Los Angeles, CA 90025']}, 'phone': '+14243455068', 'display_phone': '(424) 345-5068', 'distance': 23883.596197870243}\n",
      "{'id': 'w96L-6evRNM5pLcaKATjdA', 'alias': 'fun-factory-santa-clarita', 'name': 'Fun Factory', 'image_url': 'https://s3-media2.fl.yelpcdn.com/bphoto/LRahobCVToW6nsdAcCvqTw/o.jpg', 'is_closed': False, 'url': 'https://www.yelp.com/biz/fun-factory-santa-clarita?adjust_creative=qoZ4j1UIe7DUt0-kfp0WQw&utm_campaign=yelp_api_v3&utm_medium=api_v3_business_search&utm_source=qoZ4j1UIe7DUt0-kfp0WQw', 'review_count': 3, 'categories': [{'alias': 'arcades', 'title': 'Arcades'}], 'rating': 3.5, 'coordinates': {'latitude': 34.416939, 'longitude': -118.558003}, 'transactions': [], 'location': {'address1': '24201 W Valencia Blvd', 'address2': 'Ste 2004', 'address3': None, 'city': 'Santa Clarita', 'zip_code': '91355', 'country': 'US', 'state': 'CA', 'display_address': ['24201 W Valencia Blvd', 'Ste 2004', 'Santa Clarita, CA 91355']}, 'phone': '+16615057535', 'display_phone': '(661) 505-7535', 'distance': 24398.858723859223}\n",
      "{'id': 'pCyj6YEmoVdr-7Nwn2sSWw', 'alias': 'neon-retro-arcade-pasadena', 'name': 'Neon Retro Arcade', 'image_url': 'https://s3-media2.fl.yelpcdn.com/bphoto/HP5TkGAl3FIqq4KAuk_ofg/o.jpg', 'is_closed': False, 'url': 'https://www.yelp.com/biz/neon-retro-arcade-pasadena?adjust_creative=qoZ4j1UIe7DUt0-kfp0WQw&utm_campaign=yelp_api_v3&utm_medium=api_v3_business_search&utm_source=qoZ4j1UIe7DUt0-kfp0WQw', 'review_count': 489, 'categories': [{'alias': 'arcades', 'title': 'Arcades'}], 'rating': 4.5, 'coordinates': {'latitude': 34.14516, 'longitude': -118.14858}, 'transactions': [], 'location': {'address1': '28 S Raymond Ave', 'address2': '', 'address3': '', 'city': 'Pasadena', 'zip_code': '91105', 'country': 'US', 'state': 'CA', 'display_address': ['28 S Raymond Ave', 'Pasadena, CA 91105']}, 'phone': '+16265682924', 'display_phone': '(626) 568-2924', 'distance': 24806.89202657387}\n",
      "{'id': 'cblfumF0NyI2zw_fR5QPHQ', 'alias': 'arcade-86-los-angeles', 'name': 'Arcade 86', 'image_url': 'https://s3-media3.fl.yelpcdn.com/bphoto/qHOVbiYBOKgpNh6kQag4jA/o.jpg', 'is_closed': False, 'url': 'https://www.yelp.com/biz/arcade-86-los-angeles?adjust_creative=qoZ4j1UIe7DUt0-kfp0WQw&utm_campaign=yelp_api_v3&utm_medium=api_v3_business_search&utm_source=qoZ4j1UIe7DUt0-kfp0WQw', 'review_count': 1, 'categories': [{'alias': 'arcades', 'title': 'Arcades'}], 'rating': 5.0, 'coordinates': {'latitude': 34.0381433, 'longitude': -118.2807119}, 'transactions': [], 'location': {'address1': '1050 W Washington Blvd', 'address2': '', 'address3': None, 'city': 'Los Angeles', 'zip_code': '90015', 'country': 'US', 'state': 'CA', 'display_address': ['1050 W Washington Blvd', 'Los Angeles, CA 90015']}, 'phone': '+12139251127', 'display_phone': '(213) 925-1127', 'distance': 25348.075981110247}\n",
      "{'id': 'KoQaDSRWNqyYB3HPMN7SsQ', 'alias': 'the-slipper-clutch-los-angeles', 'name': 'The Slipper Clutch', 'image_url': 'https://s3-media4.fl.yelpcdn.com/bphoto/ckB-TjLDPBNBunS-_ttP1w/o.jpg', 'is_closed': False, 'url': 'https://www.yelp.com/biz/the-slipper-clutch-los-angeles?adjust_creative=qoZ4j1UIe7DUt0-kfp0WQw&utm_campaign=yelp_api_v3&utm_medium=api_v3_business_search&utm_source=qoZ4j1UIe7DUt0-kfp0WQw', 'review_count': 109, 'categories': [{'alias': 'cocktailbars', 'title': 'Cocktail Bars'}, {'alias': 'arcades', 'title': 'Arcades'}], 'rating': 4.0, 'coordinates': {'latitude': 34.04998, 'longitude': -118.24936}, 'transactions': [], 'price': '$$', 'location': {'address1': '351 S Broadway', 'address2': '', 'address3': None, 'city': 'Los Angeles', 'zip_code': '90013', 'country': 'US', 'state': 'CA', 'display_address': ['351 S Broadway', 'Los Angeles, CA 90013']}, 'phone': '+12132013838', 'display_phone': '(213) 201-3838', 'distance': 25476.14143171245}\n",
      "{'id': '_SFhGSuSEDFS1cx2n8w4iA', 'alias': 'illumination-entertainment-santa-monica', 'name': 'Illumination Entertainment', 'image_url': 'https://s3-media3.fl.yelpcdn.com/bphoto/Q2xL9Eo_zYuEKsQ7qy3S0g/o.jpg', 'is_closed': False, 'url': 'https://www.yelp.com/biz/illumination-entertainment-santa-monica?adjust_creative=qoZ4j1UIe7DUt0-kfp0WQw&utm_campaign=yelp_api_v3&utm_medium=api_v3_business_search&utm_source=qoZ4j1UIe7DUt0-kfp0WQw', 'review_count': 2, 'categories': [{'alias': 'arcades', 'title': 'Arcades'}], 'rating': 5.0, 'coordinates': {'latitude': 34.029204745131, 'longitude': -118.475841610423}, 'transactions': [], 'location': {'address1': '2230 Broadway', 'address2': None, 'address3': None, 'city': 'Santa Monica', 'zip_code': '90404', 'country': 'US', 'state': 'CA', 'display_address': ['2230 Broadway', 'Santa Monica, CA 90404']}, 'phone': '+13105938800', 'display_phone': '(310) 593-8800', 'distance': 25671.44492513703}\n",
      "{'id': 'Ycw6w4wlsQAIMyogytkbgw', 'alias': 'xlanes-los-angeles', 'name': 'XLanes', 'image_url': 'https://s3-media4.fl.yelpcdn.com/bphoto/6fESqgHXB-ZXcjz3T0A1MA/o.jpg', 'is_closed': False, 'url': 'https://www.yelp.com/biz/xlanes-los-angeles?adjust_creative=qoZ4j1UIe7DUt0-kfp0WQw&utm_campaign=yelp_api_v3&utm_medium=api_v3_business_search&utm_source=qoZ4j1UIe7DUt0-kfp0WQw', 'review_count': 1060, 'categories': [{'alias': 'bowling', 'title': 'Bowling'}, {'alias': 'arcades', 'title': 'Arcades'}, {'alias': 'sportsbars', 'title': 'Sports Bars'}], 'rating': 3.5, 'coordinates': {'latitude': 34.0452367129637, 'longitude': -118.238553392065}, 'transactions': ['delivery'], 'price': '$$', 'location': {'address1': '333 S Alameda St', 'address2': 'Ste 300', 'address3': '', 'city': 'Los Angeles', 'zip_code': '90013', 'country': 'US', 'state': 'CA', 'display_address': ['333 S Alameda St', 'Ste 300', 'Los Angeles, CA 90013']}, 'phone': '+12132298910', 'display_phone': '(213) 229-8910', 'distance': 26438.631857445733}\n",
      "{'id': 'veyBgbOjIHv7npz7eHf1NQ', 'alias': 'eightytwo-los-angeles-2', 'name': 'EightyTwo', 'image_url': 'https://s3-media3.fl.yelpcdn.com/bphoto/Lm5gc6umd4nsUQF4sF1Plw/o.jpg', 'is_closed': False, 'url': 'https://www.yelp.com/biz/eightytwo-los-angeles-2?adjust_creative=qoZ4j1UIe7DUt0-kfp0WQw&utm_campaign=yelp_api_v3&utm_medium=api_v3_business_search&utm_source=qoZ4j1UIe7DUt0-kfp0WQw', 'review_count': 1611, 'categories': [{'alias': 'arcades', 'title': 'Arcades'}, {'alias': 'musicvenues', 'title': 'Music Venues'}, {'alias': 'wine_bars', 'title': 'Wine Bars'}], 'rating': 4.0, 'coordinates': {'latitude': 34.045368, 'longitude': -118.237335}, 'transactions': [], 'price': '$$', 'location': {'address1': '707 E 4th Pl', 'address2': '', 'address3': '', 'city': 'Los Angeles', 'zip_code': '90013', 'country': 'US', 'state': 'CA', 'display_address': ['707 E 4th Pl', 'Los Angeles, CA 90013']}, 'phone': '+12136268200', 'display_phone': '(213) 626-8200', 'distance': 26484.15505032412}\n",
      "{'id': '9jF7enoqHE0VhCsGyqLgWw', 'alias': 'pinballerz-valencia', 'name': 'Pinballerz', 'image_url': 'https://s3-media1.fl.yelpcdn.com/bphoto/SF_7VRkIHb4uxPDuhp3veg/o.jpg', 'is_closed': False, 'url': 'https://www.yelp.com/biz/pinballerz-valencia?adjust_creative=qoZ4j1UIe7DUt0-kfp0WQw&utm_campaign=yelp_api_v3&utm_medium=api_v3_business_search&utm_source=qoZ4j1UIe7DUt0-kfp0WQw', 'review_count': 2, 'categories': [{'alias': 'arcades', 'title': 'Arcades'}, {'alias': 'venues', 'title': 'Venues & Event Spaces'}], 'rating': 5.0, 'coordinates': {'latitude': 34.43564, 'longitude': -118.57089}, 'transactions': [], 'location': {'address1': '25006 Ave Kearny', 'address2': None, 'address3': '', 'city': 'Valencia', 'zip_code': '91355', 'country': 'US', 'state': 'CA', 'display_address': ['25006 Ave Kearny', 'Valencia, CA 91355']}, 'phone': '+16612373377', 'display_phone': '(661) 237-3377', 'distance': 26759.59486119541}\n",
      "{'id': 'EbB0_euBq1wq9GcWEUxbMw', 'alias': 'the-crazy-apple-arcade-pasadena', 'name': 'The Crazy Apple Arcade', 'image_url': 'https://s3-media1.fl.yelpcdn.com/bphoto/od5Qldj8Q8l990oULdKGRA/o.jpg', 'is_closed': False, 'url': 'https://www.yelp.com/biz/the-crazy-apple-arcade-pasadena?adjust_creative=qoZ4j1UIe7DUt0-kfp0WQw&utm_campaign=yelp_api_v3&utm_medium=api_v3_business_search&utm_source=qoZ4j1UIe7DUt0-kfp0WQw', 'review_count': 2, 'categories': [{'alias': 'arcades', 'title': 'Arcades'}], 'rating': 1.0, 'coordinates': {'latitude': 34.1642323, 'longitude': -118.1126217}, 'transactions': [], 'location': {'address1': '1837 CASA GRANDE ST', 'address2': None, 'address3': '', 'city': 'Pasadena', 'zip_code': '91104', 'country': 'US', 'state': 'CA', 'display_address': ['1837 CASA GRANDE ST', 'Pasadena, CA 91104']}, 'phone': '', 'display_phone': '', 'distance': 26992.335512697387}\n",
      "{'id': '7YX4TuG8xE-a9pIgF3Hx_w', 'alias': 'two-bit-circus-los-angeles', 'name': 'Two Bit Circus', 'image_url': 'https://s3-media1.fl.yelpcdn.com/bphoto/RGRevCLSeE63OSAPP0u3PQ/o.jpg', 'is_closed': False, 'url': 'https://www.yelp.com/biz/two-bit-circus-los-angeles?adjust_creative=qoZ4j1UIe7DUt0-kfp0WQw&utm_campaign=yelp_api_v3&utm_medium=api_v3_business_search&utm_source=qoZ4j1UIe7DUt0-kfp0WQw', 'review_count': 659, 'categories': [{'alias': 'arcades', 'title': 'Arcades'}, {'alias': 'amusementparks', 'title': 'Amusement Parks'}], 'rating': 3.5, 'coordinates': {'latitude': 34.037209, 'longitude': -118.23194}, 'transactions': [], 'location': {'address1': '634 Mateo St', 'address2': '', 'address3': None, 'city': 'Los Angeles', 'zip_code': '90021', 'country': 'US', 'state': 'CA', 'display_address': ['634 Mateo St', 'Los Angeles, CA 90021']}, 'phone': '+12135993188', 'display_phone': '(213) 599-3188', 'distance': 27522.13494190419}\n",
      "{'id': 'b1LtKLEo79pc0sX6EYyRRA', 'alias': 'moon-age-virtual-reality-arcade-los-angeles-3', 'name': 'Moon Age Virtual Reality Arcade', 'image_url': 'https://s3-media3.fl.yelpcdn.com/bphoto/hsDOHS4ygIy1eFkopKhpvQ/o.jpg', 'is_closed': False, 'url': 'https://www.yelp.com/biz/moon-age-virtual-reality-arcade-los-angeles-3?adjust_creative=qoZ4j1UIe7DUt0-kfp0WQw&utm_campaign=yelp_api_v3&utm_medium=api_v3_business_search&utm_source=qoZ4j1UIe7DUt0-kfp0WQw', 'review_count': 5, 'categories': [{'alias': 'virtualrealitycenters', 'title': 'Virtual Reality Centers'}, {'alias': 'arcades', 'title': 'Arcades'}], 'rating': 5.0, 'coordinates': {'latitude': 34.04135, 'longitude': -118.21398}, 'transactions': [], 'location': {'address1': '2208 E 4th St', 'address2': None, 'address3': '', 'city': 'Los Angeles', 'zip_code': '90033', 'country': 'US', 'state': 'CA', 'display_address': ['2208 E 4th St', 'Los Angeles, CA 90033']}, 'phone': '+13236056829', 'display_phone': '(323) 605-6829', 'distance': 28027.977845058525}\n"
     ]
    }
   ]
  },
  {
   "cell_type": "code",
   "source": [
    "response = requests.get(url, headers=headers)\n"
   ],
   "metadata": {
    "id": "J4D6PoPl8_lN",
    "pycharm": {
     "name": "#%%\n"
    }
   },
   "execution_count": null,
   "outputs": []
  }
 ]
}