{
 "cells": [
  {
   "cell_type": "code",
   "execution_count": 3,
   "metadata": {
    "id": "9ArmfzzWo4w4",
    "pycharm": {
     "name": "#%%\n"
    }
   },
   "outputs": [],
   "source": [
    "import os\n",
    "import gzip\n",
    "import pickle"
   ]
  },
  {
   "cell_type": "code",
   "execution_count": 4,
   "metadata": {
    "id": "c2telkLRpq8T",
    "pycharm": {
     "name": "#%%\n"
    }
   },
   "outputs": [],
   "source": [
    "stations = {}\n",
    "with open(\"coordinates.csv\", \"r\") as f:\n",
    "    first_line = True\n",
    "    for line in f.readlines():\n",
    "        if first_line:\n",
    "            first_line = False\n",
    "        else:\n",
    "            id, latitude, longitude = (line.replace(\"\\n\", \"\").split(\",\"))\n",
    "            stations[id] = {}\n",
    "            stations[id][\"coordinates\"] = [latitude, longitude]\n"
   ]
  },
  {
   "cell_type": "code",
   "execution_count": 10,
   "metadata": {},
   "outputs": [],
   "source": [
    "import threading\n",
    "import queue\n",
    "\n",
    "class ProcessorWorker(threading.Thread):\n",
    "    def __init__(self, worker_number, stations):\n",
    "        threading.Thread.__init__(self)\n",
    "        self.worker_number = worker_number\n",
    "        self.stations = stations\n",
    "    def run(self):\n",
    "        while True:\n",
    "            file = self.tasks_queue.get()\n",
    "\n",
    "            if file == \"END\":\n",
    "                break\n",
    "                \n",
    "            with gzip.GzipFile(\"./results/{}\".format(file), \"rb\") as f:\n",
    "                results = pickle.load(f)\n",
    "                for result in results:\n",
    "                    if result[\"name\"] not in places_near_ev.keys():\n",
    "                        places_near_ev[result[\"name\"]] = 0\n",
    "                    places_near_ev[result[\"name\"]] += 1\n"
   ]
  },
  {
   "cell_type": "code",
   "execution_count": 15,
   "metadata": {
    "pycharm": {
     "name": "#%%\n"
    }
   },
   "outputs": [],
   "source": [
    "NUMBER_OF_WORKERS = 10\n",
    "\n",
    "results = os.listdir('./results')\n",
    "\n",
    "tasks_queue = queue.Queue()\n",
    "\n",
    "for file in results:\n",
    "    #station_id = file.split(\"_\")[1]\n",
    "    tasks_queue.put(file)\n",
    "    \n",
    "for i in range(NUMBER_OF_WORKERS):\n",
    "    tasks_queue.put(\"END\")"
   ]
  },
  {
   "cell_type": "code",
   "execution_count": null,
   "metadata": {},
   "outputs": [],
   "source": [
    "places_near_ev = {}\n"
   ]
  },
  {
   "cell_type": "code",
   "execution_count": null,
   "metadata": {},
   "outputs": [],
   "source": []
  },
  {
   "cell_type": "code",
   "execution_count": null,
   "metadata": {
    "pycharm": {
     "name": "#%%\n"
    }
   },
   "outputs": [],
   "source": [
    "\"\"\"\n",
    "results = os.listdir('./results')\n",
    "\n",
    "for file in results:\n",
    "    station_id = file.split(\"_\")[1]\n",
    "    with gzip.GzipFile(\"./results/{}\".format(file), \"rb\") as f:\n",
    "        processed_results = []\n",
    "        results = pickle.load(f)\n",
    "        for result in results:\n",
    "            processed_result = {}\n",
    "            processed_result[\"id\"] = result[\"id\"]\n",
    "            processed_result[\"alias\"] = result[\"alias\"]\n",
    "            processed_result[\"name\"] = result[\"name\"]\n",
    "            #image_url\n",
    "            #is_closed\n",
    "            processed_result[\"url\"] = result[\"url\"]\n",
    "            #review count\n",
    "            processed_result[\"categories\"] = result[\"categories\"]\n",
    "            #raiting\n",
    "            #coordinates\n",
    "            #transactions\n",
    "            #price\n",
    "            #location\n",
    "            processed_result[\"phone\"] = result[\"phone\"]\n",
    "            #display phone\n",
    "            processed_result[\"distance\"] = result[\"distance\"]\n",
    "            processed_results.append(processed_result)\n",
    "            #break\n",
    "        stations[station_id][\"near_places\"] = processed_results\n",
    "    #break\n",
    "\n",
    "\"\"\""
   ]
  }
 ],
 "metadata": {
  "colab": {
   "provenance": []
  },
  "kernelspec": {
   "display_name": "Python 3 (ipykernel)",
   "language": "python",
   "name": "python3"
  },
  "language_info": {
   "codemirror_mode": {
    "name": "ipython",
    "version": 3
   },
   "file_extension": ".py",
   "mimetype": "text/x-python",
   "name": "python",
   "nbconvert_exporter": "python",
   "pygments_lexer": "ipython3",
   "version": "3.10.6"
  },
  "vscode": {
   "interpreter": {
    "hash": "916dbcbb3f70747c44a77c7bcd40155683ae19c65e1c03b4aa3499c5328201f1"
   }
  }
 },
 "nbformat": 4,
 "nbformat_minor": 1
}
