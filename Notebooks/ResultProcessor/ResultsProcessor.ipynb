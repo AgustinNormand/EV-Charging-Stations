{
 "cells": [
  {
   "cell_type": "code",
   "execution_count": 1,
   "metadata": {
    "id": "9ArmfzzWo4w4",
    "pycharm": {
     "name": "#%%\n"
    }
   },
   "outputs": [],
   "source": [
    "import os\n",
    "import gzip\n",
    "import pickle"
   ]
  },
  {
   "cell_type": "code",
   "execution_count": 2,
   "metadata": {
    "id": "c2telkLRpq8T",
    "pycharm": {
     "name": "#%%\n"
    }
   },
   "outputs": [],
   "source": [
    "stations = {}\n",
    "with open(\"coordinates.csv\", \"r\") as f:\n",
    "    first_line = True\n",
    "    for line in f.readlines():\n",
    "        if first_line:\n",
    "            first_line = False\n",
    "        else:\n",
    "            id, latitude, longitude = (line.replace(\"\\n\", \"\").split(\",\"))\n",
    "            stations[id] = {}\n",
    "            stations[id][\"coordinates\"] = [latitude, longitude]\n"
   ]
  },
  {
   "cell_type": "code",
   "execution_count": null,
   "metadata": {
    "collapsed": false,
    "pycharm": {
     "name": "#%%\n"
    }
   },
   "outputs": [],
   "source": [
    "\"\"\"\n",
    "results = os.listdir('./results')\n",
    "\n",
    "for file in results:\n",
    "    station_id = file.split(\"_\")[1]\n",
    "    with gzip.GzipFile(\"./results/{}\".format(file), \"rb\") as f:\n",
    "        processed_results = []\n",
    "        results = pickle.load(f)\n",
    "        for result in results:\n",
    "            processed_result = {}\n",
    "            processed_result[\"id\"] = result[\"id\"]\n",
    "            processed_result[\"alias\"] = result[\"alias\"]\n",
    "            processed_result[\"name\"] = result[\"name\"]\n",
    "            #image_url\n",
    "            #is_closed\n",
    "            processed_result[\"url\"] = result[\"url\"]\n",
    "            #review count\n",
    "            processed_result[\"categories\"] = result[\"categories\"]\n",
    "            #raiting\n",
    "            #coordinates\n",
    "            #transactions\n",
    "            #price\n",
    "            #location\n",
    "            processed_result[\"phone\"] = result[\"phone\"]\n",
    "            #display phone\n",
    "            processed_result[\"distance\"] = result[\"distance\"]\n",
    "            processed_results.append(processed_result)\n",
    "            #break\n",
    "        stations[station_id][\"near_places\"] = processed_results\n",
    "    #break\n",
    "\n",
    "\"\"\"\n",
    "\n",
    "#stations[\"1517\"]"
   ]
  },
  {
   "cell_type": "code",
   "execution_count": null,
   "metadata": {
    "collapsed": false,
    "pycharm": {
     "name": "#%%\n"
    }
   },
   "outputs": [],
   "source": [
    "places_near_ev = {}\n",
    "\n",
    "results = os.listdir('./results')\n",
    "\n",
    "for file in results:\n",
    "    station_id = file.split(\"_\")[1]\n",
    "    with gzip.GzipFile(\"./results/{}\".format(file), \"rb\") as f:\n",
    "        results = pickle.load(f)\n",
    "        for result in results:\n",
    "            if result[\"name\"] not in places_near_ev.keys():\n",
    "                places_near_ev[result[\"name\"]] = 0\n",
    "            places_near_ev[result[\"name\"]] += 1"
   ]
  }
 ],
 "metadata": {
  "colab": {
   "provenance": []
  },
  "kernelspec": {
   "display_name": "Python 3.10.4 64-bit",
   "language": "python",
   "name": "python3"
  },
  "language_info": {
   "codemirror_mode": {
    "name": "ipython",
    "version": 3
   },
   "file_extension": ".py",
   "mimetype": "text/x-python",
   "name": "python",
   "nbconvert_exporter": "python",
   "pygments_lexer": "ipython3",
   "version": "3.10.6 (main, Nov 14 2022, 16:10:14) [GCC 11.3.0]"
  },
  "vscode": {
   "interpreter": {
    "hash": "916dbcbb3f70747c44a77c7bcd40155683ae19c65e1c03b4aa3499c5328201f1"
   }
  }
 },
 "nbformat": 4,
 "nbformat_minor": 1
}
