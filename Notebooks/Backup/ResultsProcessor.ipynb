{
 "cells": [
  {
   "cell_type": "code",
   "execution_count": 1,
   "metadata": {
    "id": "9ArmfzzWo4w4",
    "pycharm": {
     "name": "#%%\n"
    }
   },
   "outputs": [],
   "source": [
    "import os\n",
    "import gzip\n",
    "import pickle"
   ]
  },
  {
   "cell_type": "code",
   "execution_count": 2,
   "metadata": {
    "id": "c2telkLRpq8T",
    "pycharm": {
     "name": "#%%\n"
    }
   },
   "outputs": [],
   "source": [
    "stations = {}\n",
    "with open(\"coordinates.csv\", \"r\") as f:\n",
    "    first_line = True\n",
    "    for line in f.readlines():\n",
    "        if first_line:\n",
    "            first_line = False\n",
    "        else:\n",
    "            id, latitude, longitude = (line.replace(\"\\n\", \"\").split(\",\"))\n",
    "            stations[id] = {}\n",
    "            stations[id][\"coordinates\"] = [latitude, longitude]\n"
   ]
  },
  {
   "cell_type": "code",
   "execution_count": 3,
   "metadata": {
    "pycharm": {
     "name": "#%%\n"
    }
   },
   "outputs": [],
   "source": [
    "import threading\n",
    "import queue\n",
    "places_near_ev = {}\n",
    "results = os.listdir('./counter_worker_results')\n",
    "for file in results:\n",
    "    with gzip.GzipFile(\"./counter_worker_results/{}\".format(file), \"rb\") as f:\n",
    "        worker_places_near_ev = pickle.load(f)\n",
    "        for key in worker_places_near_ev.keys():\n",
    "            if key not in places_near_ev:\n",
    "                places_near_ev[key] = worker_places_near_ev[key]\n",
    "            else:\n",
    "                places_near_ev[key] = places_near_ev[key] + worker_places_near_ev[key]"
   ]
  },
  {
   "cell_type": "code",
   "execution_count": 4,
   "metadata": {
    "pycharm": {
     "name": "#%%\n"
    }
   },
   "outputs": [
    {
     "data": {
      "text/plain": [
       "1165380"
      ]
     },
     "execution_count": 4,
     "metadata": {},
     "output_type": "execute_result"
    }
   ],
   "source": [
    "len(places_near_ev.keys())"
   ]
  },
  {
   "cell_type": "code",
   "execution_count": 35,
   "metadata": {
    "pycharm": {
     "name": "#%%\n"
    }
   },
   "outputs": [],
   "source": [
    "places_near_ev = dict(sorted(places_near_ev.items(), key=lambda item: item[1], reverse=True))"
   ]
  },
  {
   "cell_type": "code",
   "execution_count": 53,
   "metadata": {
    "pycharm": {
     "name": "#%%\n"
    }
   },
   "outputs": [],
   "source": [
    "size = len(list(places_near_ev.keys())) // 3\n",
    "part_1 = {}\n",
    "part_2 = {}\n",
    "part_3 = {}\n",
    "for key in list(places_near_ev.keys())[:size]:\n",
    "    part_1[key] = places_near_ev[key]\n",
    "    \n",
    "for key in list(places_near_ev.keys())[size:-size]:\n",
    "    part_2[key] = places_near_ev[key]\n",
    "\n",
    "for key in list(places_near_ev.keys())[-size:]:\n",
    "    part_3[key] = places_near_ev[key]\n"
   ]
  },
  {
   "cell_type": "code",
   "execution_count": 57,
   "metadata": {
    "pycharm": {
     "name": "#%%\n"
    }
   },
   "outputs": [
    {
     "data": {
      "text/plain": [
       "388460"
      ]
     },
     "execution_count": 57,
     "metadata": {},
     "output_type": "execute_result"
    }
   ],
   "source": [
    "size"
   ]
  },
  {
   "cell_type": "code",
   "execution_count": 55,
   "metadata": {
    "pycharm": {
     "name": "#%%\n"
    }
   },
   "outputs": [
    {
     "data": {
      "text/plain": [
       "388460"
      ]
     },
     "execution_count": 55,
     "metadata": {},
     "output_type": "execute_result"
    }
   ],
   "source": [
    "len(part_1.keys())"
   ]
  },
  {
   "cell_type": "code",
   "execution_count": 54,
   "metadata": {
    "pycharm": {
     "name": "#%%\n"
    }
   },
   "outputs": [
    {
     "data": {
      "text/plain": [
       "388460"
      ]
     },
     "execution_count": 54,
     "metadata": {},
     "output_type": "execute_result"
    }
   ],
   "source": [
    "len(part_2.keys())"
   ]
  },
  {
   "cell_type": "code",
   "execution_count": 56,
   "metadata": {
    "pycharm": {
     "name": "#%%\n"
    }
   },
   "outputs": [
    {
     "data": {
      "text/plain": [
       "388460"
      ]
     },
     "execution_count": 56,
     "metadata": {},
     "output_type": "execute_result"
    }
   ],
   "source": [
    "len(part_3.keys())"
   ]
  },
  {
   "cell_type": "code",
   "execution_count": 58,
   "metadata": {
    "pycharm": {
     "name": "#%%\n"
    }
   },
   "outputs": [],
   "source": [
    "import csv\n",
    "\n",
    "with open(\"part_1.csv\", \"w\") as f:\n",
    "    f.write(\"name, near_x_stations,\\r\\n\")\n",
    "    for key in part_1.keys():\n",
    "        f.write(\"{},{},\\r\\n\".format(str(key).replace(\",\", \"\"), part_1[key]))\n",
    "        \n",
    "with open(\"part_2.csv\", \"w\") as f:\n",
    "    f.write(\"name, near_x_stations,\\r\\n\")\n",
    "    for key in part_2.keys():\n",
    "        f.write(\"{},{},\\r\\n\".format(str(key).replace(\",\", \"\"), part_2[key]))    \n",
    "    \n",
    "with open(\"part_3.csv\", \"w\") as f:\n",
    "    f.write(\"name, near_x_stations,\\r\\n\")\n",
    "    for key in part_3.keys():\n",
    "        f.write(\"{},{},\\r\\n\".format(str(key).replace(\",\", \"\"), part_3[key]))"
   ]
  }
 ],
 "metadata": {
  "colab": {
   "provenance": []
  },
  "kernelspec": {
   "display_name": "Python 3 (ipykernel)",
   "language": "python",
   "name": "python3"
  },
  "language_info": {
   "codemirror_mode": {
    "name": "ipython",
    "version": 3
   },
   "file_extension": ".py",
   "mimetype": "text/x-python",
   "name": "python",
   "nbconvert_exporter": "python",
   "pygments_lexer": "ipython3",
   "version": "3.10.6"
  },
  "vscode": {
   "interpreter": {
    "hash": "916dbcbb3f70747c44a77c7bcd40155683ae19c65e1c03b4aa3499c5328201f1"
   }
  }
 },
 "nbformat": 4,
 "nbformat_minor": 1
}
