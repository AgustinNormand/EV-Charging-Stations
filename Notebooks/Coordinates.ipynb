{
 "nbformat": 4,
 "nbformat_minor": 0,
 "metadata": {
  "colab": {
   "provenance": []
  },
  "kernelspec": {
   "name": "python3",
   "display_name": "Python 3"
  },
  "language_info": {
   "name": "python"
  }
 },
 "cells": [
  {
   "cell_type": "code",
   "execution_count": 1,
   "outputs": [
    {
     "name": "stdout",
     "output_type": "stream",
     "text": [
      "Requirement already satisfied: requests in /home/agustin/PycharmProjects/Stations/venv/lib/python3.10/site-packages (2.28.2)\r\n",
      "Requirement already satisfied: certifi>=2017.4.17 in /home/agustin/PycharmProjects/Stations/venv/lib/python3.10/site-packages (from requests) (2022.12.7)\r\n",
      "Requirement already satisfied: urllib3<1.27,>=1.21.1 in /home/agustin/PycharmProjects/Stations/venv/lib/python3.10/site-packages (from requests) (1.26.14)\r\n",
      "Requirement already satisfied: idna<4,>=2.5 in /home/agustin/PycharmProjects/Stations/venv/lib/python3.10/site-packages (from requests) (3.4)\r\n",
      "Requirement already satisfied: charset-normalizer<4,>=2 in /home/agustin/PycharmProjects/Stations/venv/lib/python3.10/site-packages (from requests) (3.0.1)\r\n",
      "Note: you may need to restart the kernel to use updated packages.\n"
     ]
    }
   ],
   "source": [
    "pip install requests"
   ],
   "metadata": {
    "collapsed": false,
    "pycharm": {
     "name": "#%%\n"
    }
   }
  },
  {
   "cell_type": "code",
   "execution_count": 2,
   "outputs": [],
   "source": [
    "import requests"
   ],
   "metadata": {
    "collapsed": false,
    "pycharm": {
     "name": "#%%\n"
    }
   }
  },
  {
   "cell_type": "code",
   "source": [
    "API_KEY = \"HlLGK5Ty9tqyB3cj7NF44mDFJli2QFWuicxRbKI0\""
   ],
   "metadata": {
    "id": "7EbCBfaGno9a",
    "pycharm": {
     "name": "#%%\n"
    }
   },
   "execution_count": 3,
   "outputs": []
  },
  {
   "cell_type": "code",
   "source": [
    "url = \"https://developer.nrel.gov/api/alt-fuel-stations/v1.json?limit=all&api_key={}&fuel_type={}\".format(API_KEY, \"ELEC\")"
   ],
   "metadata": {
    "id": "arSXI06_ndMw",
    "pycharm": {
     "name": "#%%\n"
    }
   },
   "execution_count": 4,
   "outputs": []
  },
  {
   "cell_type": "code",
   "source": [
    "r = requests.get(url)"
   ],
   "metadata": {
    "id": "SJ7knT3Eny0s",
    "pycharm": {
     "name": "#%%\n"
    }
   },
   "execution_count": 5,
   "outputs": []
  },
  {
   "cell_type": "code",
   "source": [
    "import json\n",
    "\n",
    "json_object = json.loads(r.text)"
   ],
   "metadata": {
    "id": "9ArmfzzWo4w4",
    "pycharm": {
     "name": "#%%\n"
    }
   },
   "execution_count": 6,
   "outputs": []
  },
  {
   "cell_type": "code",
   "source": [
    "json_object.keys()"
   ],
   "metadata": {
    "colab": {
     "base_uri": "https://localhost:8080/"
    },
    "id": "arItgdren1gm",
    "outputId": "49864b71-d254-4ec9-f168-041c06a78e76",
    "pycharm": {
     "name": "#%%\n"
    }
   },
   "execution_count": 7,
   "outputs": [
    {
     "data": {
      "text/plain": "dict_keys(['station_locator_url', 'total_results', 'station_counts', 'fuel_stations'])"
     },
     "execution_count": 7,
     "metadata": {},
     "output_type": "execute_result"
    }
   ]
  },
  {
   "cell_type": "code",
   "source": [
    "json_object[\"total_results\"]"
   ],
   "metadata": {
    "colab": {
     "base_uri": "https://localhost:8080/"
    },
    "id": "ZTIY4owBpPzL",
    "outputId": "f8ab4b0c-5e80-4010-d4e0-6f1a93bd9683",
    "pycharm": {
     "name": "#%%\n"
    }
   },
   "execution_count": 8,
   "outputs": [
    {
     "data": {
      "text/plain": "57944"
     },
     "execution_count": 8,
     "metadata": {},
     "output_type": "execute_result"
    }
   ]
  },
  {
   "cell_type": "code",
   "source": [
    "json_object[\"station_locator_url\"]"
   ],
   "metadata": {
    "colab": {
     "base_uri": "https://localhost:8080/",
     "height": 35
    },
    "id": "_ieBnPs0pT-F",
    "outputId": "39b032d6-32fa-4c4a-97d8-927f9615e05e",
    "pycharm": {
     "name": "#%%\n"
    }
   },
   "execution_count": 9,
   "outputs": [
    {
     "data": {
      "text/plain": "'https://afdc.energy.gov/stations/'"
     },
     "execution_count": 9,
     "metadata": {},
     "output_type": "execute_result"
    }
   ]
  },
  {
   "cell_type": "code",
   "source": [
    "json_object[\"station_counts\"]"
   ],
   "metadata": {
    "colab": {
     "base_uri": "https://localhost:8080/"
    },
    "id": "YZQaSE3kpVQs",
    "outputId": "ba91f46e-8c6a-4388-cb46-4d66ab9b85df",
    "pycharm": {
     "name": "#%%\n"
    }
   },
   "execution_count": 10,
   "outputs": [
    {
     "data": {
      "text/plain": "{'total': 151227,\n 'fuels': {'BD': {'total': 0},\n  'E85': {'total': 0},\n  'ELEC': {'total': 151227, 'stations': {'total': 57944}},\n  'HY': {'total': 0},\n  'LNG': {'total': 0},\n  'CNG': {'total': 0},\n  'LPG': {'total': 0}}}"
     },
     "execution_count": 10,
     "metadata": {},
     "output_type": "execute_result"
    }
   ]
  },
  {
   "cell_type": "code",
   "source": [
    "for station in json_object[\"fuel_stations\"]:\n",
    "  print(station)\n",
    "  break"
   ],
   "metadata": {
    "colab": {
     "base_uri": "https://localhost:8080/"
    },
    "id": "_xu2gBFzp4k2",
    "outputId": "30e75694-7607-4322-e547-af07798dc488",
    "pycharm": {
     "name": "#%%\n"
    }
   },
   "execution_count": 11,
   "outputs": [
    {
     "name": "stdout",
     "output_type": "stream",
     "text": [
      "{'access_code': 'private', 'access_days_time': 'Fleet use only', 'access_detail_code': None, 'cards_accepted': None, 'date_last_confirmed': '2023-01-10', 'expected_date': None, 'fuel_type_code': 'ELEC', 'groups_with_access_code': 'Private', 'id': 1517, 'open_date': '1999-10-15', 'owner_type_code': 'LG', 'status_code': 'E', 'restricted_access': None, 'station_name': 'LADWP - Truesdale Center', 'station_phone': None, 'updated_at': '2023-01-10T16:44:47Z', 'facility_type': 'UTILITY', 'geocode_status': 'GPS', 'latitude': 34.2483191527193, 'longitude': -118.3879713743439, 'city': 'Sun Valley', 'intersection_directions': None, 'plus4': None, 'state': 'CA', 'street_address': '11797 Truesdale St', 'zip': '91352', 'country': 'US', 'bd_blends': None, 'cng_dispenser_num': None, 'cng_fill_type_code': None, 'cng_psi': None, 'cng_renewable_source': None, 'cng_total_compression': None, 'cng_total_storage': None, 'cng_vehicle_class': None, 'e85_blender_pump': None, 'e85_other_ethanol_blends': None, 'ev_connector_types': ['CHADEMO', 'J1772', 'J1772COMBO'], 'ev_dc_fast_num': 3, 'ev_level1_evse_num': None, 'ev_level2_evse_num': 39, 'ev_network': 'Non-Networked', 'ev_network_web': None, 'ev_other_evse': None, 'ev_pricing': None, 'ev_renewable_source': None, 'hy_is_retail': None, 'hy_pressures': None, 'hy_standards': None, 'hy_status_link': None, 'lng_renewable_source': None, 'lng_vehicle_class': None, 'lpg_primary': None, 'lpg_nozzle_types': None, 'ng_fill_type_code': None, 'ng_psi': None, 'ng_vehicle_class': None, 'access_days_time_fr': None, 'intersection_directions_fr': None, 'bd_blends_fr': None, 'groups_with_access_code_fr': 'Privé', 'ev_pricing_fr': None}\n"
     ]
    }
   ]
  },
  {
   "cell_type": "code",
   "source": [
    "stations_coordinates = []\n",
    "for station in json_object[\"fuel_stations\"]:\n",
    "  coordinates = [station[\"id\"], station[\"latitude\"], station[\"longitude\"]]\n",
    "  stations_coordinates.append(coordinates)"
   ],
   "metadata": {
    "id": "nF0lymRmpXs3",
    "pycharm": {
     "name": "#%%\n"
    }
   },
   "execution_count": 12,
   "outputs": []
  },
  {
   "cell_type": "code",
   "source": [
    "with open(\"coordinates.csv\", \"w\") as f:\n",
    "  f.write(\"id,latitude,longitude\\r\\n\")\n",
    "  for coordinate in stations_coordinates:\n",
    "    f.write(\"{},{},{}\\r\\n\".format(coordinate[0], coordinate[1], coordinate[2]))\n"
   ],
   "metadata": {
    "id": "c2telkLRpq8T",
    "pycharm": {
     "name": "#%%\n"
    }
   },
   "execution_count": 13,
   "outputs": []
  }
 ]
}