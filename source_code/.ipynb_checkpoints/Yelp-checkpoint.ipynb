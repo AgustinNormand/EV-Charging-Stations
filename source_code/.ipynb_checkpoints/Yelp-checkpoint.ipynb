{
 "cells": [
  {
   "cell_type": "code",
   "execution_count": 73,
   "metadata": {
    "pycharm": {
     "name": "#%%\n"
    }
   },
   "outputs": [
    {
     "name": "stdout",
     "output_type": "stream",
     "text": [
      "Defaulting to user installation because normal site-packages is not writeable\n",
      "Requirement already satisfied: requests in /home/agustin/.local/lib/python3.10/site-packages (2.26.0)\n",
      "Requirement already satisfied: idna<4,>=2.5 in /home/agustin/.local/lib/python3.10/site-packages (from requests) (2.8)\n",
      "Requirement already satisfied: urllib3<1.27,>=1.21.1 in /home/agustin/.local/lib/python3.10/site-packages (from requests) (1.26.12)\n",
      "Requirement already satisfied: charset-normalizer~=2.0.0 in /home/agustin/.local/lib/python3.10/site-packages (from requests) (2.0.12)\n",
      "Requirement already satisfied: certifi>=2017.4.17 in /home/agustin/.local/lib/python3.10/site-packages (from requests) (2022.9.24)\n",
      "Note: you may need to restart the kernel to use updated packages.\n"
     ]
    }
   ],
   "source": [
    "pip install requests"
   ]
  },
  {
   "cell_type": "code",
   "execution_count": 74,
   "metadata": {
    "id": "9ArmfzzWo4w4",
    "pycharm": {
     "name": "#%%\n"
    }
   },
   "outputs": [],
   "source": [
    "import requests\n",
    "import json\n",
    "import logging\n",
    "import csv\n",
    "import queue\n",
    "import os"
   ]
  },
  {
   "cell_type": "code",
   "execution_count": 75,
   "metadata": {
    "id": "c2telkLRpq8T",
    "pycharm": {
     "name": "#%%\n"
    }
   },
   "outputs": [],
   "source": [
    "stationsIds_coordinates = {}\n",
    "with open(\"coordinates.csv\", \"r\") as f:\n",
    "    first_line = True\n",
    "    for line in f.readlines():\n",
    "        if first_line:\n",
    "            first_line = False\n",
    "        else:\n",
    "            id, latitude, longitude = (line.replace(\"\\n\", \"\").split(\",\"))\n",
    "            stationsIds_coordinates[id] = [latitude, longitude]\n"
   ]
  },
  {
   "cell_type": "code",
   "execution_count": 76,
   "metadata": {
    "pycharm": {
     "name": "#%%\n"
    }
   },
   "outputs": [],
   "source": [
    "API_KEYS = [\"Uq3IgQh8Nx0GRLHSAlM2FW80mQMtrMaf3g4eiQf_IHVt5aS3Q24HZ8kYRDgQgQPle2cVfKOXp662JYPTZSXYPGGxy4OlrDg0itCKlW6BzRos8sSbBVI_-ZcR3KvSY3Yx\",\n",
    "            \"EyvbybAXv6pgiYCnd5AmdVk4syuOczoMsrFXoiUzJH_CxFpYNtlv9ovek0KY5ruX1CpZttJQXd3ldwP6Ml85CvtzIC5hafOcheBwF--DtE_Y7i260CzF68P75u3SY3Yx\",\n",
    "            \"GzY6R0mmSjGd0t1RDH8YzoFWfuC9KVPOmsx-2vEdVtoFYk-pyHKB6wnRIehEs8o6aOefuLuQB_BWvTO6EBscoVoszyZs4-GEHSIv1WCW541h7zosVQObGZaqXhzTY3Yx\",\n",
    "            \"xQDzrpCHHMNkOSgNpBQk09hR5z9h0_1d74ijo7jJv1uIKUTpZ63u17bpdezyfMy9tuGch79n2CV83KvG9Y1vTKQ0PFxp37wqL9R3EOlBcaYfxq2lyaWZBT_WcB3TY3Yx\",\n",
    "            \"v8sXRp1SjKc6yfHGDj3_pm-u4fDZv3pdc_Pk5pMT9b41QpMW2l6KwFmJZwUZJbJP8EPltCvIx36i1kHfYRxGvE6n2_UWUdGVGvVazXX_hZOJuMrRFwaiaOclVh7TY3Yx\",\n",
    "            \"NG2abV-M1855GQavPNA8AgthLOx_pkpAMLuDh9xq5gKiel7p6Nu0x5KpYsXJtmjbsAyrnc35O5Ea-6awqA51IGbH-Pi_Fdi3-V_uzXLT4ykXqZUbOujsCyz7oy3TY3Yx\",\n",
    "            \"1aaM8QE2dGkBh10rLEl3r-cZQ-1jw5oCUo4FpmZE08Jsp5CjhLnFvEWEBZNWPuN7Ity0FQhmm8xTBFx3rD9BKnLP_VzrkItkgcL1lju4wNoXZqKjTLLDTTcmaTjTY3Yx\",\n",
    "            \"YHqvlL-0I4mB7Qc3tTcpCIvch67KvRqtvjGGQksksz3tfgwNBHFCwG89IqiLozWlcksWVCXDrZAv5zJAeZVyCIVNXGvlE542Ty_L2W-6MrOfpRtdqAmMOQz0mUPTY3Yx\",\n",
    "            \"n3HUbcO8roIRjzeI_q_LvSJt8PiAqkaIZceI-K9c0Fi4dsu5YxT1HA293m00R272TfjCkyBmgrcI4nBu6RyRtG8yH4aSjhRIN9KRGmq2FxxUWuCz-zC0P1-4nkTTY3Yx\",\n",
    "            \"PIH5MbDMUksyIXCnxHV9JAyhJo_BR7y4sJcIVaZAM_qBOHTkToprUmPF5R9VHIUuV5y9mhKBrT-7_ZiA68QLpugkHakQAfcO43jGCQ7QVfHMai1iGp94zHjqwOzSY3Yx\",\n",
    "            ]"
   ]
  },
  {
   "cell_type": "code",
   "execution_count": 77,
   "metadata": {
    "pycharm": {
     "name": "#%%\n"
    }
   },
   "outputs": [],
   "source": [
    "yelp_categories = [\n",
    "    \"arcades\",  # Arcades\n",
    "    \"casinos\",  # Casinos\n",
    "\n",
    "    \"movietheaters\",  # Cinema # Has Sub Categories\n",
    "    #\"driveintheater\", # movietheaters Sub Category\n",
    "    #\"outdoormovies\" # movietheaters Sub Category\n",
    "\n",
    "    \"museums\",  # Museums # Has Sub Categories\n",
    "    #\"artmuseums\", # Museums Sub Category\n",
    "    #\"childrensmuseums\" # Museums Sub Category\n",
    "\n",
    "    \"barbers\",  # Barbers\n",
    "\n",
    "    \"hair\",  # Hair Salons # Has Sub Categories\n",
    "    #\"blowoutservices\" # Hair Salons Sub Category\n",
    "    #\"hair_extensions\", # Hair Salons Sub Category\n",
    "    #\"hairstylists\", # Hair Salons Sub Category\n",
    "    #\"kidshairsalons\", # Hair Salons Sub Category\n",
    "    #\"menshair\" # Hair Salons Sub Category\n",
    "\n",
    "    \"othersalons\",  # Nail Salons # Has Sub Categories\n",
    "    #\"nailtechnicians\" # othersalons Sub Category\n",
    "\n",
    "    \"massage\",  # Massage\n",
    "\n",
    "    \"food\",  # Food # Has Lot Of Sub Categories\n",
    "\n",
    "    \"restaurants\",  # Restaurants # Has Lot Of Sub Categories\n",
    "\n",
    "    \"shopping\",  # Shopping # Has Lot Of Sub Categories\n",
    "\n",
    "    \"souvenirs\",  # Souvenir Shops\n",
    "\n",
    "    \"sportgoods\"]  # Sporting Goods # Has Sub Categories"
   ]
  },
  {
   "cell_type": "code",
   "execution_count": 78,
   "metadata": {
    "pycharm": {
     "name": "#%%\n"
    }
   },
   "outputs": [],
   "source": [
    "def get_all_results(yelp_url, worker_number, headers):\n",
    "    yelp_url_with_limit_and_offset = \"{}&limit={}&offset={}\".format(yelp_url, 50, 0)\n",
    "\n",
    "    results = []\n",
    "    for i in range(0, 20):\n",
    "        offset = i * 50\n",
    "        yelp_url_with_limit_and_offset = \"{}&limit={}&offset={}\".format(yelp_url, 50, offset)\n",
    "\n",
    "        response = requests.get(yelp_url_with_limit_and_offset, headers=headers)\n",
    "        logging.info(\"Worker Number {}, Response Status Code {}, yelp_url {}\".format(worker_number, response, yelp_url))\n",
    "        json_response = json.loads(response.text)\n",
    "        logging.info(\"Worker Number {}, Total for resource {}, offset {}, Total in response {}\".format(worker_number, json_response[\"total\"], offset, len(json_response[\"businesses\"])))\n",
    "        results.extend(json_response[\"businesses\"])\n",
    "\n",
    "        # Worst\n",
    "        #if len(json_response[\"businesses\"]) == 0:\n",
    "        #    break\n",
    "\n",
    "        # Better:\n",
    "        if len(json_response[\"businesses\"]) < 50:\n",
    "            break\n",
    "\n",
    "    return results"
   ]
  },
  {
   "cell_type": "code",
   "execution_count": 79,
   "metadata": {
    "pycharm": {
     "name": "#%%\n"
    }
   },
   "outputs": [],
   "source": [
    "logging.basicConfig(filename='application.log', level=logging.INFO, filemode=\"w\", force=True)"
   ]
  },
  {
   "cell_type": "code",
   "execution_count": 80,
   "metadata": {
    "pycharm": {
     "name": "#%%\n"
    }
   },
   "outputs": [],
   "source": [
    "def build_yelp_url(latitude, longitude, category = None):\n",
    "    sort_by = \"distance\"\n",
    "    radius = 40000\n",
    "\n",
    "    if category == None:\n",
    "        or_str_categories = \"\"\n",
    "        for category in yelp_categories:\n",
    "            or_str_categories += str(category)+\",\"\n",
    "        \n",
    "        yelp_url = \"https://api.yelp.com/v3/businesses/search\" \\\n",
    "                   \"?radius={}\" \\\n",
    "                   \"&latitude={}\" \\\n",
    "                   \"&longitude={}\" \\\n",
    "                   \"&categories={}\" \\\n",
    "                   \"&sort_by={}\".format(radius, latitude, longitude, or_str_categories[:-1], sort_by)\n",
    "    return yelp_url"
   ]
  },
  {
   "cell_type": "code",
   "execution_count": 81,
   "metadata": {
    "pycharm": {
     "name": "#%%\n"
    }
   },
   "outputs": [],
   "source": [
    "from threading import Thread\n",
    "import pickle\n",
    "\n",
    "class StationsDownloaderWorker(Thread):\n",
    "    def __init__(self, worker_number, tasks_queue, stationsIds_coordinates, api_key):\n",
    "        Thread.__init__(self)\n",
    "        self.worker_number = worker_number\n",
    "        self.tasks_queue = tasks_queue\n",
    "        self.stationsIds_coordinates = stationsIds_coordinates\n",
    "        self.headers = {\n",
    "            \"accept\": \"application/json\",\n",
    "            \"Authorization\": \"Bearer {}\".format(api_key)\n",
    "        }\n",
    "\n",
    "    def run(self):\n",
    "        while True:\n",
    "            station_id = tasks_queue.get()\n",
    "\n",
    "            if station_id == \"END\":\n",
    "                break\n",
    "            try:\n",
    "                latitude, longitude = self.stationsIds_coordinates[station_id]\n",
    "                logging.info(\"Worker Number {}, ID {}, Latitude {}, Longitude {}\".format(self.worker_number, station_id, latitude, longitude))\n",
    "\n",
    "                yelp_url = build_yelp_url(latitude, longitude)\n",
    "                results = get_all_results(yelp_url, self.worker_number, self.headers)\n",
    "\n",
    "                with open('./results/station_{}_results'.format(station_id), 'wb') as f:\n",
    "                    pickle.dump(results, f)\n",
    "\n",
    "            except Exception as e:\n",
    "                logging.error(\"Worker Number {}, Error in {}, {}\".format(self.worker_number, station_id, str(e)))\n",
    "            self.tasks_queue.task_done()\n"
   ]
  },
  {
   "cell_type": "code",
   "execution_count": 82,
   "metadata": {
    "pycharm": {
     "name": "#%%\n"
    }
   },
   "outputs": [
    {
     "name": "stdout",
     "output_type": "stream",
     "text": [
      "Missing to download count 57944\n",
      "Q Len 57944\n"
     ]
    }
   ],
   "source": [
    "import queue\n",
    "\n",
    "tasks_queue = queue.Queue()\n",
    "\n",
    "already_scraped = os.listdir('./results')\n",
    "\n",
    "already_scraped_processed = []\n",
    "for result in already_scraped:\n",
    "    already_scraped_processed.append(int(result.split(\"_\")[1]))\n",
    "\n",
    "missing_to_scrape = []\n",
    "for station_id in stationsIds_coordinates:\n",
    "    if int(station_id) not in already_scraped_processed:\n",
    "        missing_to_scrape.append(station_id)\n",
    "        tasks_queue.put(station_id)\n",
    "\n",
    "print(\"Missing to download count {}\".format(len(missing_to_scrape)))\n",
    "print(\"Q Len {}\".format(tasks_queue.qsize()))"
   ]
  },
  {
   "cell_type": "code",
   "execution_count": 83,
   "metadata": {},
   "outputs": [],
   "source": [
    "for api_key in API_KEYS:\n",
    "    tasks_queue.put(\"END\")"
   ]
  },
  {
   "cell_type": "code",
   "execution_count": 84,
   "metadata": {},
   "outputs": [
    {
     "ename": "KeyboardInterrupt",
     "evalue": "",
     "output_type": "error",
     "traceback": [
      "\u001b[0;31m---------------------------------------------------------------------------\u001b[0m",
      "\u001b[0;31mKeyboardInterrupt\u001b[0m                         Traceback (most recent call last)",
      "Input \u001b[0;32mIn [84]\u001b[0m, in \u001b[0;36m<cell line: 10>\u001b[0;34m()\u001b[0m\n\u001b[1;32m      8\u001b[0m     worker_number \u001b[38;5;241m+\u001b[39m\u001b[38;5;241m=\u001b[39m \u001b[38;5;241m1\u001b[39m\n\u001b[1;32m     10\u001b[0m \u001b[38;5;28;01mfor\u001b[39;00m worker \u001b[38;5;129;01min\u001b[39;00m workers:\n\u001b[0;32m---> 11\u001b[0m     \u001b[43mworker\u001b[49m\u001b[38;5;241;43m.\u001b[39;49m\u001b[43mjoin\u001b[49m\u001b[43m(\u001b[49m\u001b[43m)\u001b[49m\n",
      "File \u001b[0;32m/usr/lib/python3.10/threading.py:1096\u001b[0m, in \u001b[0;36mThread.join\u001b[0;34m(self, timeout)\u001b[0m\n\u001b[1;32m   1093\u001b[0m     \u001b[38;5;28;01mraise\u001b[39;00m \u001b[38;5;167;01mRuntimeError\u001b[39;00m(\u001b[38;5;124m\"\u001b[39m\u001b[38;5;124mcannot join current thread\u001b[39m\u001b[38;5;124m\"\u001b[39m)\n\u001b[1;32m   1095\u001b[0m \u001b[38;5;28;01mif\u001b[39;00m timeout \u001b[38;5;129;01mis\u001b[39;00m \u001b[38;5;28;01mNone\u001b[39;00m:\n\u001b[0;32m-> 1096\u001b[0m     \u001b[38;5;28;43mself\u001b[39;49m\u001b[38;5;241;43m.\u001b[39;49m\u001b[43m_wait_for_tstate_lock\u001b[49m\u001b[43m(\u001b[49m\u001b[43m)\u001b[49m\n\u001b[1;32m   1097\u001b[0m \u001b[38;5;28;01melse\u001b[39;00m:\n\u001b[1;32m   1098\u001b[0m     \u001b[38;5;66;03m# the behavior of a negative timeout isn't documented, but\u001b[39;00m\n\u001b[1;32m   1099\u001b[0m     \u001b[38;5;66;03m# historically .join(timeout=x) for x<0 has acted as if timeout=0\u001b[39;00m\n\u001b[1;32m   1100\u001b[0m     \u001b[38;5;28mself\u001b[39m\u001b[38;5;241m.\u001b[39m_wait_for_tstate_lock(timeout\u001b[38;5;241m=\u001b[39m\u001b[38;5;28mmax\u001b[39m(timeout, \u001b[38;5;241m0\u001b[39m))\n",
      "File \u001b[0;32m/usr/lib/python3.10/threading.py:1116\u001b[0m, in \u001b[0;36mThread._wait_for_tstate_lock\u001b[0;34m(self, block, timeout)\u001b[0m\n\u001b[1;32m   1113\u001b[0m     \u001b[38;5;28;01mreturn\u001b[39;00m\n\u001b[1;32m   1115\u001b[0m \u001b[38;5;28;01mtry\u001b[39;00m:\n\u001b[0;32m-> 1116\u001b[0m     \u001b[38;5;28;01mif\u001b[39;00m \u001b[43mlock\u001b[49m\u001b[38;5;241;43m.\u001b[39;49m\u001b[43macquire\u001b[49m\u001b[43m(\u001b[49m\u001b[43mblock\u001b[49m\u001b[43m,\u001b[49m\u001b[43m \u001b[49m\u001b[43mtimeout\u001b[49m\u001b[43m)\u001b[49m:\n\u001b[1;32m   1117\u001b[0m         lock\u001b[38;5;241m.\u001b[39mrelease()\n\u001b[1;32m   1118\u001b[0m         \u001b[38;5;28mself\u001b[39m\u001b[38;5;241m.\u001b[39m_stop()\n",
      "\u001b[0;31mKeyboardInterrupt\u001b[0m: "
     ]
    }
   ],
   "source": [
    "workers = []\n",
    "\n",
    "worker_number = 0\n",
    "for api_key in API_KEYS:\n",
    "    worker = StationsDownloaderWorker(worker_number, tasks_queue, stationsIds_coordinates, api_key)\n",
    "    workers.append(worker)\n",
    "    worker.start()\n",
    "    worker_number += 1\n",
    "    \n",
    "for worker in workers:\n",
    "    worker.join()"
   ]
  },
  {
   "cell_type": "code",
   "execution_count": null,
   "metadata": {
    "pycharm": {
     "name": "#%%\n"
    }
   },
   "outputs": [],
   "source": [
    "\"\"\"\n",
    "#id, latitude, longitude = stations_coordinates[0]\n",
    "#logging.info(\"Processing ID {}, Latitude {}, Longitude {}\".format(id, latitude, longitude))\n",
    "\n",
    "while True:\n",
    "    station_id = tasks_queue.get()\n",
    "    latitude, longitude = stationsIds_coordinates[station_id]\n",
    "    logging.info(\"Processing ID {}, Latitude {}, Longitude {}\".format(station_id, latitude, longitude))\n",
    "\n",
    "    station_categoryResults = {}\n",
    "    for category in yelp_categories:\n",
    "        sort_by = \"distance\"\n",
    "        radius = 40000\n",
    "\n",
    "        yelp_url = \"https://api.yelp.com/v3/businesses/search\" \\\n",
    "                   \"?radius={}\" \\\n",
    "                   \"&latitude={}\" \\\n",
    "                   \"&longitude={}\" \\\n",
    "                   \"&categories={}\" \\\n",
    "                   \"&sort_by={}\".format(radius, latitude, longitude, category, sort_by)\n",
    "\n",
    "        station_categoryResults[category] = get_all_results(yelp_url)\n",
    "\n",
    "        with open('./results/station_{}_results.csv'.format(id), 'w', newline='') as f:\n",
    "            writer = csv.DictWriter(f, fieldnames=station_categoryResults.keys())\n",
    "            writer.writeheader()\n",
    "            writer.writerow(station_categoryResults)\n",
    "\n",
    "\"\"\""
   ]
  }
 ],
 "metadata": {
  "colab": {
   "provenance": []
  },
  "kernelspec": {
   "display_name": "Python 3 (ipykernel)",
   "language": "python",
   "name": "python3"
  },
  "language_info": {
   "codemirror_mode": {
    "name": "ipython",
    "version": 3
   },
   "file_extension": ".py",
   "mimetype": "text/x-python",
   "name": "python",
   "nbconvert_exporter": "python",
   "pygments_lexer": "ipython3",
   "version": "3.10.6"
  }
 },
 "nbformat": 4,
 "nbformat_minor": 1
}
