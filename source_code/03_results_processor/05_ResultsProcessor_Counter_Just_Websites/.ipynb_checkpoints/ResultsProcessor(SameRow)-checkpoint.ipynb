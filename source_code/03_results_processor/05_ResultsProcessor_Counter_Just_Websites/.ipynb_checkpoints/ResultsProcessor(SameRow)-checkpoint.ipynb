{
 "cells": [
  {
   "cell_type": "code",
   "execution_count": 1,
   "metadata": {
    "id": "9ArmfzzWo4w4",
    "pycharm": {
     "name": "#%%\n"
    }
   },
   "outputs": [],
   "source": [
    "import os\n",
    "import gzip\n",
    "import pickle"
   ]
  },
  {
   "cell_type": "code",
   "execution_count": 2,
   "metadata": {
    "id": "c2telkLRpq8T",
    "pycharm": {
     "name": "#%%\n"
    }
   },
   "outputs": [],
   "source": [
    "stations = {}\n",
    "with open(\"coordinates.csv\", \"r\") as f:\n",
    "    first_line = True\n",
    "    for line in f.readlines():\n",
    "        if first_line:\n",
    "            first_line = False\n",
    "        else:\n",
    "            id, latitude, longitude = (line.replace(\"\\n\", \"\").split(\",\"))\n",
    "            stations[id] = {}\n",
    "            stations[id][\"coordinates\"] = [latitude, longitude]\n"
   ]
  },
  {
   "cell_type": "code",
   "execution_count": 3,
   "metadata": {
    "pycharm": {
     "name": "#%%\n"
    }
   },
   "outputs": [],
   "source": [
    "import threading\n",
    "import queue\n",
    "with gzip.GzipFile(\"./places_near_ev_all_info\", \"rb\") as f:\n",
    "    places_near_ev = pickle.load(f)\n"
   ]
  },
  {
   "cell_type": "code",
   "execution_count": 4,
   "metadata": {
    "pycharm": {
     "name": "#%%\n"
    }
   },
   "outputs": [
    {
     "data": {
      "text/plain": [
       "1161001"
      ]
     },
     "execution_count": 4,
     "metadata": {},
     "output_type": "execute_result"
    }
   ],
   "source": [
    "len(places_near_ev.keys())"
   ]
  },
  {
   "cell_type": "code",
   "execution_count": 5,
   "metadata": {},
   "outputs": [],
   "source": [
    "import csv\n",
    "with open('all_info.csv', 'r') as file:\n",
    "    reader = csv.reader(file)\n",
    "    for row in reader:\n",
    "        all_info = row"
   ]
  },
  {
   "cell_type": "code",
   "execution_count": 93,
   "metadata": {},
   "outputs": [],
   "source": [
    "values = []\n",
    "for raw_key in all_info:\n",
    "    key = raw_key.replace(\" \", \"\").replace(\"/\", \"\")\n",
    "    for value in places_near_ev[key]:\n",
    "        values.append(value)"
   ]
  },
  {
   "cell_type": "code",
   "execution_count": 94,
   "metadata": {},
   "outputs": [
    {
     "data": {
      "text/plain": [
       "{'id': '-r3_DVHbUeJdSYv3seiv4w',\n",
       " 'alias': 'honeygrow-boston-2',\n",
       " 'name': 'honeygrow',\n",
       " 'categories': [{'alias': 'salad', 'title': 'Salad'},\n",
       "  {'alias': 'noodles', 'title': 'Noodles'},\n",
       "  {'alias': 'vegetarian', 'title': 'Vegetarian'}],\n",
       " 'coordinates': (42.35219125182304, -71.04360747687085),\n",
       " 'phone': '+18573503642',\n",
       " 'website': 'https://www.yelp.com/biz/honeygrow-boston-2?adjust_creative=Tizfgphx1zX-34soshB24g&utm_campaign=yelp_api_v3&utm_medium=api_v3_business_search&utm_source=Tizfgphx1zX-34soshB24g'}"
      ]
     },
     "execution_count": 94,
     "metadata": {},
     "output_type": "execute_result"
    }
   ],
   "source": [
    "values[0]"
   ]
  },
  {
   "cell_type": "code",
   "execution_count": 95,
   "metadata": {
    "pycharm": {
     "name": "#%%\n"
    }
   },
   "outputs": [],
   "source": [
    "size = len(values) // 3\n",
    "part_1 = values[:size]\n",
    "part_2 = values[size:-size]\n",
    "part_3 = values[-size:]\n"
   ]
  },
  {
   "cell_type": "code",
   "execution_count": 96,
   "metadata": {
    "pycharm": {
     "name": "#%%\n"
    }
   },
   "outputs": [
    {
     "data": {
      "text/plain": [
       "475352"
      ]
     },
     "execution_count": 96,
     "metadata": {},
     "output_type": "execute_result"
    }
   ],
   "source": [
    "size"
   ]
  },
  {
   "cell_type": "code",
   "execution_count": 97,
   "metadata": {
    "pycharm": {
     "name": "#%%\n"
    }
   },
   "outputs": [
    {
     "data": {
      "text/plain": [
       "475352"
      ]
     },
     "execution_count": 97,
     "metadata": {},
     "output_type": "execute_result"
    }
   ],
   "source": [
    "len(part_1)"
   ]
  },
  {
   "cell_type": "code",
   "execution_count": 98,
   "metadata": {
    "pycharm": {
     "name": "#%%\n"
    }
   },
   "outputs": [
    {
     "data": {
      "text/plain": [
       "475352"
      ]
     },
     "execution_count": 98,
     "metadata": {},
     "output_type": "execute_result"
    }
   ],
   "source": [
    "len(part_2)"
   ]
  },
  {
   "cell_type": "code",
   "execution_count": 99,
   "metadata": {
    "pycharm": {
     "name": "#%%\n"
    }
   },
   "outputs": [
    {
     "data": {
      "text/plain": [
       "475352"
      ]
     },
     "execution_count": 99,
     "metadata": {},
     "output_type": "execute_result"
    }
   ],
   "source": [
    "len(part_3)"
   ]
  },
  {
   "cell_type": "code",
   "execution_count": 100,
   "metadata": {},
   "outputs": [
    {
     "data": {
      "text/plain": [
       "'id,alias,name,categories,coordinates,phone,website'"
      ]
     },
     "execution_count": 100,
     "metadata": {},
     "output_type": "execute_result"
    }
   ],
   "source": [
    "\",\".join(list(part_1[0].keys()))"
   ]
  },
  {
   "cell_type": "code",
   "execution_count": 101,
   "metadata": {},
   "outputs": [],
   "source": [
    "for value in values:\n",
    "    categories = []\n",
    "    for category in value[\"categories\"]:\n",
    "        categories.append(category[\"title\"])\n",
    "    value[\"categories\"] = ','.join(categories)"
   ]
  },
  {
   "cell_type": "code",
   "execution_count": 102,
   "metadata": {},
   "outputs": [],
   "source": [
    "for value in values:\n",
    "    value[\"coordinates\"] = \"{}, {}\".format(value[\"coordinates\"][0], value[\"coordinates\"][1])"
   ]
  },
  {
   "cell_type": "code",
   "execution_count": 103,
   "metadata": {},
   "outputs": [
    {
     "data": {
      "text/plain": [
       "{'id': '-r3_DVHbUeJdSYv3seiv4w',\n",
       " 'alias': 'honeygrow-boston-2',\n",
       " 'name': 'honeygrow',\n",
       " 'categories': 'Salad,Noodles,Vegetarian',\n",
       " 'coordinates': '42.35219125182304, -71.04360747687085',\n",
       " 'phone': '+18573503642',\n",
       " 'website': 'https://www.yelp.com/biz/honeygrow-boston-2?adjust_creative=Tizfgphx1zX-34soshB24g&utm_campaign=yelp_api_v3&utm_medium=api_v3_business_search&utm_source=Tizfgphx1zX-34soshB24g'}"
      ]
     },
     "execution_count": 103,
     "metadata": {},
     "output_type": "execute_result"
    }
   ],
   "source": [
    "values[0]"
   ]
  },
  {
   "cell_type": "code",
   "execution_count": 108,
   "metadata": {
    "pycharm": {
     "name": "#%%\n"
    }
   },
   "outputs": [],
   "source": [
    "import csv\n",
    "\n",
    "with open(\"part_1.csv\", \"w\") as f:\n",
    "    f.write(\"id|;|alias|;|name|;|categories|;|coordinates|;|phone|;|website|;|\\r\\n\")\n",
    "    for value in part_1:\n",
    "        f.write(\"|;|\".join(list(value.values())))\n",
    "        f.write(\"\\r\\n\")\n",
    "        \n",
    "with open(\"part_2.csv\", \"w\") as f:\n",
    "    f.write(\"id|;|alias|;|name|;|categories|;|coordinates|;|phone|;|website|;|\\r\\n\")\n",
    "    for value in part_2:\n",
    "        f.write(\"|;|\".join(list(value.values())))\n",
    "        f.write(\"\\r\\n\")\n",
    "        \n",
    "with open(\"part_3.csv\", \"w\") as f:\n",
    "    f.write(\"id|;|alias|;|name|;|categories|;|coordinates|;|phone|;|website|;|\\r\\n\")\n",
    "    for value in part_3:\n",
    "        f.write(\"|;|\".join(list(value.values())))\n",
    "        f.write(\"\\r\\n\")"
   ]
  },
  {
   "cell_type": "code",
   "execution_count": 8,
   "metadata": {},
   "outputs": [],
   "source": [
    "just_websites = []\n",
    "all_info = []\n",
    "for key in processed_places_near_ev:\n",
    "    if processed_places_near_ev[key] >= 30:\n",
    "        just_websites.append(key)\n",
    "    else:\n",
    "        all_info.append(key)\n"
   ]
  },
  {
   "cell_type": "code",
   "execution_count": 9,
   "metadata": {},
   "outputs": [
    {
     "data": {
      "text/plain": [
       "2072"
      ]
     },
     "execution_count": 9,
     "metadata": {},
     "output_type": "execute_result"
    }
   ],
   "source": [
    "len(just_websites)"
   ]
  },
  {
   "cell_type": "code",
   "execution_count": 11,
   "metadata": {},
   "outputs": [
    {
     "data": {
      "text/plain": [
       "1159291"
      ]
     },
     "execution_count": 11,
     "metadata": {},
     "output_type": "execute_result"
    }
   ],
   "source": [
    "len(all_info)"
   ]
  },
  {
   "cell_type": "code",
   "execution_count": 13,
   "metadata": {},
   "outputs": [],
   "source": [
    "import csv\n",
    "with open('all_info.csv', 'w') as f:\n",
    "    csv_writer = csv.writer(f)\n",
    "    csv_writer.writerow(all_info)"
   ]
  },
  {
   "cell_type": "code",
   "execution_count": 14,
   "metadata": {},
   "outputs": [],
   "source": [
    "import csv\n",
    "with open('just_websites.csv', 'w') as f:\n",
    "    csv_writer = csv.writer(f)\n",
    "    csv_writer.writerow(just_websites)"
   ]
  }
 ],
 "metadata": {
  "colab": {
   "provenance": []
  },
  "kernelspec": {
   "display_name": "Python 3 (ipykernel)",
   "language": "python",
   "name": "python3"
  },
  "language_info": {
   "codemirror_mode": {
    "name": "ipython",
    "version": 3
   },
   "file_extension": ".py",
   "mimetype": "text/x-python",
   "name": "python",
   "nbconvert_exporter": "python",
   "pygments_lexer": "ipython3",
   "version": "3.10.6"
  },
  "vscode": {
   "interpreter": {
    "hash": "916dbcbb3f70747c44a77c7bcd40155683ae19c65e1c03b4aa3499c5328201f1"
   }
  }
 },
 "nbformat": 4,
 "nbformat_minor": 1
}
