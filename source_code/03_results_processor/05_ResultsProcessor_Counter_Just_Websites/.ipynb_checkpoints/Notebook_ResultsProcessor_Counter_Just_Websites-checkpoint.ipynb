{
 "cells": [
  {
   "cell_type": "code",
   "execution_count": 1,
   "metadata": {
    "id": "9ArmfzzWo4w4",
    "pycharm": {
     "name": "#%%\n"
    }
   },
   "outputs": [],
   "source": [
    "import os\n",
    "import gzip\n",
    "import pickle"
   ]
  },
  {
   "cell_type": "code",
   "execution_count": 2,
   "metadata": {
    "id": "c2telkLRpq8T",
    "pycharm": {
     "name": "#%%\n"
    }
   },
   "outputs": [],
   "source": [
    "stations = {}\n",
    "with open(\"/home/agustin/PycharmProjects/Stations/source_code/01_coordinates/coordinates.csv\", \"r\") as f:\n",
    "    first_line = True\n",
    "    for line in f.readlines():\n",
    "        if first_line:\n",
    "            first_line = False\n",
    "        else:\n",
    "            id, latitude, longitude = (line.replace(\"\\n\", \"\").split(\",\"))\n",
    "            stations[id] = {}\n",
    "            stations[id][\"coordinates\"] = [latitude, longitude]\n"
   ]
  },
  {
   "cell_type": "code",
   "execution_count": 3,
   "metadata": {
    "pycharm": {
     "name": "#%%\n"
    }
   },
   "outputs": [],
   "source": [
    "import threading\n",
    "import queue\n",
    "with gzip.GzipFile(\"./ResultsProcessor_Counter_Just_Websites_Results\", \"rb\") as f:\n",
    "    places_near_ev = pickle.load(f)\n"
   ]
  },
  {
   "cell_type": "code",
   "execution_count": 4,
   "metadata": {
    "pycharm": {
     "name": "#%%\n"
    }
   },
   "outputs": [
    {
     "data": {
      "text/plain": [
       "2071"
      ]
     },
     "execution_count": 4,
     "metadata": {},
     "output_type": "execute_result"
    }
   ],
   "source": [
    "len(places_near_ev.keys())"
   ]
  },
  {
   "cell_type": "code",
   "execution_count": 5,
   "metadata": {},
   "outputs": [
    {
     "data": {
      "text/plain": [
       "\"Morton'sTheSteakhouse\""
      ]
     },
     "execution_count": 5,
     "metadata": {},
     "output_type": "execute_result"
    }
   ],
   "source": [
    "list(places_near_ev.keys())[0]"
   ]
  },
  {
   "cell_type": "code",
   "execution_count": 6,
   "metadata": {},
   "outputs": [
    {
     "data": {
      "text/plain": [
       "{'name': \"Morton's The Steakhouse\",\n",
       " 'one_website': 'https://www.yelp.com/biz/mortons-the-steakhouse-boston-7?adjust_creative=Tizfgphx1zX-34soshB24g&utm_campaign=yelp_api_v3&utm_medium=api_v3_business_search&utm_source=Tizfgphx1zX-34soshB24g',\n",
       " 'categories': [{'alias': 'steak', 'title': 'Steakhouses'},\n",
       "  {'alias': 'seafood', 'title': 'Seafood'}]}"
      ]
     },
     "execution_count": 6,
     "metadata": {},
     "output_type": "execute_result"
    }
   ],
   "source": [
    "places_near_ev[\"Morton'sTheSteakhouse\"]"
   ]
  },
  {
   "cell_type": "code",
   "execution_count": 7,
   "metadata": {},
   "outputs": [],
   "source": [
    "import csv\n",
    "with open('just_websites.csv', 'r') as file:\n",
    "with open('/home/agustin/PycharmProjects/Stations/source_code/03_results_processor/03_ResultsProcessor_Counter_Memory/just_websites.csv', 'r') as file:\n",
    "\n",
    "    reader = csv.reader(file)\n",
    "    for row in reader:\n",
    "        all_info = row"
   ]
  },
  {
   "cell_type": "code",
   "execution_count": 8,
   "metadata": {},
   "outputs": [
    {
     "name": "stdout",
     "output_type": "stream",
     "text": [
      "0\n"
     ]
    }
   ],
   "source": [
    "values = []\n",
    "errors = 0\n",
    "for raw_key in all_info:\n",
    "    key = raw_key.replace(\" \", \"\").replace(\"/\", \"\").replace(\",\", \"\")\n",
    "    try:\n",
    "        #for value in places_near_ev[key]:\n",
    "            \n",
    "        values.append(places_near_ev[key])\n",
    "    except Exception as e:\n",
    "        errors += 1\n",
    "        pass\n",
    "print(errors)"
   ]
  },
  {
   "cell_type": "code",
   "execution_count": 9,
   "metadata": {},
   "outputs": [
    {
     "data": {
      "text/plain": [
       "{'name': 'Subway',\n",
       " 'one_website': 'https://www.yelp.com/biz/subway-boston-49?adjust_creative=Tizfgphx1zX-34soshB24g&utm_campaign=yelp_api_v3&utm_medium=api_v3_business_search&utm_source=Tizfgphx1zX-34soshB24g'}"
      ]
     },
     "execution_count": 9,
     "metadata": {},
     "output_type": "execute_result"
    }
   ],
   "source": [
    "values[0]"
   ]
  },
  {
   "cell_type": "code",
   "execution_count": 14,
   "metadata": {},
   "outputs": [
    {
     "data": {
      "text/plain": [
       "2072"
      ]
     },
     "execution_count": 14,
     "metadata": {},
     "output_type": "execute_result"
    }
   ],
   "source": [
    "len(values)"
   ]
  },
  {
   "cell_type": "code",
   "execution_count": 10,
   "metadata": {},
   "outputs": [
    {
     "data": {
      "text/plain": [
       "'name,one_website'"
      ]
     },
     "execution_count": 10,
     "metadata": {},
     "output_type": "execute_result"
    }
   ],
   "source": [
    "\",\".join(list(values[0].keys()))"
   ]
  },
  {
   "cell_type": "code",
   "execution_count": 11,
   "metadata": {},
   "outputs": [],
   "source": [
    "for value in values:\n",
    "    for key in value:\n",
    "        value[key] = value[key].replace(\",\", \"\")"
   ]
  },
  {
   "cell_type": "code",
   "execution_count": 12,
   "metadata": {},
   "outputs": [
    {
     "data": {
      "text/plain": [
       "{'name': 'Subway',\n",
       " 'one_website': 'https://www.yelp.com/biz/subway-boston-49?adjust_creative=Tizfgphx1zX-34soshB24g&utm_campaign=yelp_api_v3&utm_medium=api_v3_business_search&utm_source=Tizfgphx1zX-34soshB24g'}"
      ]
     },
     "execution_count": 12,
     "metadata": {},
     "output_type": "execute_result"
    }
   ],
   "source": [
    "values[0]"
   ]
  },
  {
   "cell_type": "code",
   "execution_count": 13,
   "metadata": {
    "pycharm": {
     "name": "#%%\n"
    }
   },
   "outputs": [],
   "source": [
    "import csv\n",
    "\n",
    "with open(\"values.csv\", \"w\") as f:\n",
    "    f.write(\"name,one_website,\\r\\n\")\n",
    "    for value in values:\n",
    "        f.write(\",\".join(list(value.values())))\n",
    "        f.write(\"\\r\\n\")"
   ]
  },
  {
   "cell_type": "code",
   "execution_count": null,
   "metadata": {},
   "outputs": [],
   "source": []
  }
 ],
 "metadata": {
  "colab": {
   "provenance": []
  },
  "kernelspec": {
   "display_name": "Python 3 (ipykernel)",
   "language": "python",
   "name": "python3"
  },
  "language_info": {
   "codemirror_mode": {
    "name": "ipython",
    "version": 3
   },
   "file_extension": ".py",
   "mimetype": "text/x-python",
   "name": "python",
   "nbconvert_exporter": "python",
   "pygments_lexer": "ipython3",
   "version": "3.10.6"
  },
  "vscode": {
   "interpreter": {
    "hash": "916dbcbb3f70747c44a77c7bcd40155683ae19c65e1c03b4aa3499c5328201f1"
   }
  }
 },
 "nbformat": 4,
 "nbformat_minor": 1
}
