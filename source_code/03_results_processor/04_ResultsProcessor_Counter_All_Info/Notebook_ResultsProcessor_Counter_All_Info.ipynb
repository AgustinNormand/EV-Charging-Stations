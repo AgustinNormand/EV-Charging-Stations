{
 "cells": [
  {
   "cell_type": "code",
   "execution_count": 1,
   "metadata": {
    "id": "9ArmfzzWo4w4",
    "pycharm": {
     "name": "#%%\n"
    }
   },
   "outputs": [],
   "source": [
    "import os\n",
    "import gzip\n",
    "import pickle"
   ]
  },
  {
   "cell_type": "code",
   "execution_count": 2,
   "metadata": {
    "id": "c2telkLRpq8T",
    "pycharm": {
     "name": "#%%\n"
    }
   },
   "outputs": [],
   "source": [
    "stations = {}\n",
    "with open(\"../../01_coordinates/coordinates.csv\", \"r\") as f:\n",
    "    first_line = True\n",
    "    for line in f.readlines():\n",
    "        if first_line:\n",
    "            first_line = False\n",
    "        else:\n",
    "            id, latitude, longitude = (line.replace(\"\\n\", \"\").split(\",\"))\n",
    "            stations[id] = {}\n",
    "            stations[id][\"coordinates\"] = [latitude, longitude]\n"
   ]
  },
  {
   "cell_type": "code",
   "execution_count": 3,
   "metadata": {
    "pycharm": {
     "name": "#%%\n"
    }
   },
   "outputs": [],
   "source": [
    "import threading\n",
    "import queue\n",
    "\n",
    "with gzip.GzipFile(\"./ResultsProcessor_Counter_All_Info_Results\", \"rb\") as f:\n",
    "    places_near_ev = pickle.load(f)\n",
    "    \n"
   ]
  },
  {
   "cell_type": "code",
   "execution_count": 4,
   "metadata": {
    "pycharm": {
     "name": "#%%\n"
    }
   },
   "outputs": [
    {
     "data": {
      "text/plain": [
       "431015"
      ]
     },
     "execution_count": 4,
     "metadata": {},
     "output_type": "execute_result"
    }
   ],
   "source": [
    "len(places_near_ev.keys())"
   ]
  },
  {
   "cell_type": "code",
   "execution_count": 5,
   "metadata": {},
   "outputs": [],
   "source": [
    "import csv\n",
    "with open('../03_ResultsProcessor_Counter_Memory/all_info.csv', 'r') as file:\n",
    "    reader = csv.reader(file)\n",
    "    for row in reader:\n",
    "        all_info = row"
   ]
  },
  {
   "cell_type": "code",
   "execution_count": 6,
   "metadata": {},
   "outputs": [
    {
     "name": "stdout",
     "output_type": "stream",
     "text": [
      "174\n"
     ]
    }
   ],
   "source": [
    "values = []\n",
    "errors = 0\n",
    "DEMO_FILE = True\n",
    "for raw_key in all_info:\n",
    "    key = raw_key.replace(\" \", \"\").replace(\"/\", \"\").replace(\",\", \"\")\n",
    "    if DEMO_FILE:\n",
    "        try:\n",
    "            for value in places_near_ev[key]:\n",
    "                values.append(value)\n",
    "        except:\n",
    "            errors += 1\n",
    "            pass\n",
    "    else:\n",
    "        for value in places_near_ev[key]:\n",
    "            values.append(value)\n",
    "\n",
    "print(errors)"
   ]
  },
  {
   "cell_type": "code",
   "execution_count": 7,
   "metadata": {},
   "outputs": [
    {
     "data": {
      "text/plain": [
       "{'id': 'e2fLdVyjH_7KqQ6SoDIM0Q',\n",
       " 'alias': 'rosa-mexicano-boston-2',\n",
       " 'name': 'Rosa Mexicano',\n",
       " 'categories': [{'alias': 'mexican', 'title': 'Mexican'},\n",
       "  {'alias': 'salad', 'title': 'Salad'},\n",
       "  {'alias': 'cocktailbars', 'title': 'Cocktail Bars'}],\n",
       " 'coordinates': (42.34984092377136, -71.04284888722289),\n",
       " 'phone': '+16174766122',\n",
       " 'adress': '155 Seaport Blvd Boston, MA 02210',\n",
       " 'city': 'Boston',\n",
       " 'state': 'MA',\n",
       " 'website': 'https://www.yelp.com/biz/rosa-mexicano-boston-2?adjust_creative=M10_EvFsEpu360zFKWId7g&utm_campaign=yelp_api_v3&utm_medium=api_v3_business_search&utm_source=M10_EvFsEpu360zFKWId7g'}"
      ]
     },
     "execution_count": 7,
     "metadata": {},
     "output_type": "execute_result"
    }
   ],
   "source": [
    "values[0]"
   ]
  },
  {
   "cell_type": "code",
   "execution_count": 8,
   "metadata": {},
   "outputs": [],
   "source": [
    "#for value in values:\n",
    "#    if not type(value[\"categories\"]) == list:\n",
    "#        print(value)\n",
    "#        break\n"
   ]
  },
  {
   "cell_type": "code",
   "execution_count": 9,
   "metadata": {},
   "outputs": [
    {
     "data": {
      "text/plain": [
       "'id,alias,name,categories,coordinates,phone,adress,city,state,website'"
      ]
     },
     "execution_count": 9,
     "metadata": {},
     "output_type": "execute_result"
    }
   ],
   "source": [
    "\",\".join(list(values[0].keys()))"
   ]
  },
  {
   "cell_type": "code",
   "execution_count": 10,
   "metadata": {},
   "outputs": [],
   "source": [
    "new_values = []\n",
    "for value in values:\n",
    "    new_value = {}\n",
    "    categories = []\n",
    "    for category in value[\"categories\"]:\n",
    "        categories.append(category[\"title\"])\n",
    "        \n",
    "    for key in value:\n",
    "        if key == \"categories\":\n",
    "            continue\n",
    "        new_value[key] = value[key]\n",
    "        \n",
    "    new_value[\"categories\"] = ';'.join(categories)\n",
    "    new_values.append(new_value)\n",
    "    #break\n",
    "    #value[\"categories\"] = ';'.join(categories)\n",
    "values = new_values"
   ]
  },
  {
   "cell_type": "code",
   "execution_count": 11,
   "metadata": {},
   "outputs": [
    {
     "data": {
      "text/plain": [
       "{'id': 'e2fLdVyjH_7KqQ6SoDIM0Q',\n",
       " 'alias': 'rosa-mexicano-boston-2',\n",
       " 'name': 'Rosa Mexicano',\n",
       " 'coordinates': (42.34984092377136, -71.04284888722289),\n",
       " 'phone': '+16174766122',\n",
       " 'adress': '155 Seaport Blvd Boston, MA 02210',\n",
       " 'city': 'Boston',\n",
       " 'state': 'MA',\n",
       " 'website': 'https://www.yelp.com/biz/rosa-mexicano-boston-2?adjust_creative=M10_EvFsEpu360zFKWId7g&utm_campaign=yelp_api_v3&utm_medium=api_v3_business_search&utm_source=M10_EvFsEpu360zFKWId7g',\n",
       " 'categories': 'Mexican;Salad;Cocktail Bars'}"
      ]
     },
     "execution_count": 11,
     "metadata": {},
     "output_type": "execute_result"
    }
   ],
   "source": [
    "values[0]"
   ]
  },
  {
   "cell_type": "code",
   "execution_count": 12,
   "metadata": {},
   "outputs": [],
   "source": [
    "for value in values:\n",
    "    value[\"coordinates\"] = \"{}; {}\".format(value[\"coordinates\"][0], value[\"coordinates\"][1])"
   ]
  },
  {
   "cell_type": "code",
   "execution_count": 13,
   "metadata": {},
   "outputs": [],
   "source": [
    "for value in values:\n",
    "    for key in value:\n",
    "        if value[key] != None:\n",
    "            value[key] = value[key].replace(\",\", \"\")"
   ]
  },
  {
   "cell_type": "code",
   "execution_count": 14,
   "metadata": {},
   "outputs": [],
   "source": [
    "for value in values:\n",
    "    for key in value:\n",
    "        if value[key] == None:\n",
    "            value[key] = \"\""
   ]
  },
  {
   "cell_type": "code",
   "execution_count": 15,
   "metadata": {},
   "outputs": [
    {
     "data": {
      "text/plain": [
       "'id,alias,name,coordinates,phone,adress,city,state,website,categories'"
      ]
     },
     "execution_count": 15,
     "metadata": {},
     "output_type": "execute_result"
    }
   ],
   "source": [
    "\",\".join(values[0].keys())"
   ]
  },
  {
   "cell_type": "code",
   "execution_count": 16,
   "metadata": {
    "pycharm": {
     "name": "#%%\n"
    }
   },
   "outputs": [],
   "source": [
    "import csv\n",
    "\n",
    "with open(\"ResultsProcessor_Counter_All_Info.csv\", \"w\") as f:\n",
    "    f.write(\"id,alias,name,coordinates,phone,adress,city,state,website,categories,\\r\\n\")\n",
    "    for value in values:\n",
    "        f.write(\",\".join(list(value.values())))\n",
    "        f.write(\"\\r\\n\")"
   ]
  },
  {
   "cell_type": "code",
   "execution_count": null,
   "metadata": {},
   "outputs": [],
   "source": []
  }
 ],
 "metadata": {
  "colab": {
   "provenance": []
  },
  "kernelspec": {
   "display_name": "Python 3 (ipykernel)",
   "language": "python",
   "name": "python3"
  },
  "language_info": {
   "codemirror_mode": {
    "name": "ipython",
    "version": 3
   },
   "file_extension": ".py",
   "mimetype": "text/x-python",
   "name": "python",
   "nbconvert_exporter": "python",
   "pygments_lexer": "ipython3",
   "version": "3.10.6"
  },
  "vscode": {
   "interpreter": {
    "hash": "916dbcbb3f70747c44a77c7bcd40155683ae19c65e1c03b4aa3499c5328201f1"
   }
  }
 },
 "nbformat": 4,
 "nbformat_minor": 1
}
