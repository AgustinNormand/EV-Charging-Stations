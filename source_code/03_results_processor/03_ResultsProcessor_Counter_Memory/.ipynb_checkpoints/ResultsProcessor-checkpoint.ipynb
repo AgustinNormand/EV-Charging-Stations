{
 "cells": [
  {
   "cell_type": "code",
   "execution_count": 1,
   "metadata": {
    "id": "9ArmfzzWo4w4",
    "pycharm": {
     "name": "#%%\n"
    }
   },
   "outputs": [],
   "source": [
    "import os\n",
    "import gzip\n",
    "import pickle"
   ]
  },
  {
   "cell_type": "code",
   "execution_count": 2,
   "metadata": {
    "id": "c2telkLRpq8T",
    "pycharm": {
     "name": "#%%\n"
    }
   },
   "outputs": [],
   "source": [
    "stations = {}\n",
    "with open(\"/home/agustin/PycharmProjects/Stations/source_code/01_coordinates/coordinates.csv\", \"r\") as f:\n",
    "    first_line = True\n",
    "    for line in f.readlines():\n",
    "        if first_line:\n",
    "            first_line = False\n",
    "        else:\n",
    "            id, latitude, longitude = (line.replace(\"\\n\", \"\").split(\",\"))\n",
    "            stations[id] = {}\n",
    "            stations[id][\"coordinates\"] = [latitude, longitude]\n"
   ]
  },
  {
   "cell_type": "code",
   "execution_count": 3,
   "metadata": {
    "pycharm": {
     "name": "#%%\n"
    }
   },
   "outputs": [],
   "source": [
    "import threading\n",
    "import queue\n",
    "with gzip.GzipFile(\"./ResultsProcessor_Attributes_Results\", \"rb\") as f:\n",
    "    places_near_ev = pickle.load(f)\n"
   ]
  },
  {
   "cell_type": "code",
   "execution_count": 4,
   "metadata": {
    "pycharm": {
     "name": "#%%\n"
    }
   },
   "outputs": [
    {
     "data": {
      "text/plain": [
       "1161363"
      ]
     },
     "execution_count": 4,
     "metadata": {},
     "output_type": "execute_result"
    }
   ],
   "source": [
    "len(places_near_ev.keys())"
   ]
  },
  {
   "cell_type": "code",
   "execution_count": 5,
   "metadata": {},
   "outputs": [],
   "source": [
    "processed_places_near_ev = {}\n",
    "for key in places_near_ev:\n",
    "    processed_places_near_ev[places_near_ev[key][\"name\"]] = len(places_near_ev[key][\"coordinates\"])"
   ]
  },
  {
   "cell_type": "code",
   "execution_count": 6,
   "metadata": {
    "pycharm": {
     "name": "#%%\n"
    }
   },
   "outputs": [],
   "source": [
    "processed_places_near_ev = dict(sorted(processed_places_near_ev.items(), key=lambda item: item[1], reverse=True))"
   ]
  },
  {
   "cell_type": "code",
   "execution_count": 7,
   "metadata": {
    "pycharm": {
     "name": "#%%\n"
    }
   },
   "outputs": [],
   "source": [
    "size = len(list(processed_places_near_ev.keys())) // 3\n",
    "part_1 = {}\n",
    "part_2 = {}\n",
    "part_3 = {}\n",
    "for key in list(processed_places_near_ev.keys())[:size]:\n",
    "    part_1[key] = processed_places_near_ev[key]\n",
    "    \n",
    "for key in list(processed_places_near_ev.keys())[size:-size]:\n",
    "    part_2[key] = processed_places_near_ev[key]\n",
    "\n",
    "for key in list(processed_places_near_ev.keys())[-size:]:\n",
    "    part_3[key] = processed_places_near_ev[key]\n"
   ]
  },
  {
   "cell_type": "code",
   "execution_count": 8,
   "metadata": {
    "pycharm": {
     "name": "#%%\n"
    }
   },
   "outputs": [
    {
     "data": {
      "text/plain": [
       "387121"
      ]
     },
     "execution_count": 8,
     "metadata": {},
     "output_type": "execute_result"
    }
   ],
   "source": [
    "size"
   ]
  },
  {
   "cell_type": "code",
   "execution_count": 9,
   "metadata": {
    "pycharm": {
     "name": "#%%\n"
    }
   },
   "outputs": [
    {
     "data": {
      "text/plain": [
       "387121"
      ]
     },
     "execution_count": 9,
     "metadata": {},
     "output_type": "execute_result"
    }
   ],
   "source": [
    "len(part_1.keys())"
   ]
  },
  {
   "cell_type": "code",
   "execution_count": 10,
   "metadata": {
    "pycharm": {
     "name": "#%%\n"
    }
   },
   "outputs": [
    {
     "data": {
      "text/plain": [
       "387121"
      ]
     },
     "execution_count": 10,
     "metadata": {},
     "output_type": "execute_result"
    }
   ],
   "source": [
    "len(part_2.keys())"
   ]
  },
  {
   "cell_type": "code",
   "execution_count": 11,
   "metadata": {
    "pycharm": {
     "name": "#%%\n"
    }
   },
   "outputs": [
    {
     "data": {
      "text/plain": [
       "387121"
      ]
     },
     "execution_count": 11,
     "metadata": {},
     "output_type": "execute_result"
    }
   ],
   "source": [
    "len(part_3.keys())"
   ]
  },
  {
   "cell_type": "code",
   "execution_count": 12,
   "metadata": {
    "pycharm": {
     "name": "#%%\n"
    }
   },
   "outputs": [],
   "source": [
    "import csv\n",
    "\n",
    "with open(\"part_1.csv\", \"w\") as f:\n",
    "    f.write(\"name, near_x_stations,\\r\\n\")\n",
    "    for key in part_1.keys():\n",
    "        f.write(\"{},{},\\r\\n\".format(str(key).replace(\",\", \"\"), part_1[key]))\n",
    "        \n",
    "with open(\"part_2.csv\", \"w\") as f:\n",
    "    f.write(\"name, near_x_stations,\\r\\n\")\n",
    "    for key in part_2.keys():\n",
    "        f.write(\"{},{},\\r\\n\".format(str(key).replace(\",\", \"\"), part_2[key]))    \n",
    "    \n",
    "with open(\"part_3.csv\", \"w\") as f:\n",
    "    f.write(\"name, near_x_stations,\\r\\n\")\n",
    "    for key in part_3.keys():\n",
    "        f.write(\"{},{},\\r\\n\".format(str(key).replace(\",\", \"\"), part_3[key]))"
   ]
  },
  {
   "cell_type": "code",
   "execution_count": 34,
   "metadata": {},
   "outputs": [],
   "source": [
    "just_websites = []\n",
    "all_info = []\n",
    "for key in processed_places_near_ev:\n",
    "    if processed_places_near_ev[key] >= 30:\n",
    "        just_websites.append(key.replace(\",\", \"\").replace(\" \", \"\").replace(\"/\", \"\"))\n",
    "    else:\n",
    "        all_info.append(key.replace(\",\", \"\").replace(\" \", \"\").replace(\"/\", \"\"))\n"
   ]
  },
  {
   "cell_type": "code",
   "execution_count": 35,
   "metadata": {},
   "outputs": [
    {
     "data": {
      "text/plain": [
       "2072"
      ]
     },
     "execution_count": 35,
     "metadata": {},
     "output_type": "execute_result"
    }
   ],
   "source": [
    "len(just_websites)"
   ]
  },
  {
   "cell_type": "code",
   "execution_count": 36,
   "metadata": {},
   "outputs": [
    {
     "data": {
      "text/plain": [
       "1159291"
      ]
     },
     "execution_count": 36,
     "metadata": {},
     "output_type": "execute_result"
    }
   ],
   "source": [
    "len(all_info)"
   ]
  },
  {
   "cell_type": "code",
   "execution_count": 37,
   "metadata": {},
   "outputs": [],
   "source": [
    "import csv\n",
    "with open('all_info.csv', 'w') as f:\n",
    "    csv_writer = csv.writer(f)\n",
    "    csv_writer.writerow(all_info)"
   ]
  },
  {
   "cell_type": "code",
   "execution_count": 38,
   "metadata": {},
   "outputs": [],
   "source": [
    "import csv\n",
    "with open('just_websites.csv', 'w') as f:\n",
    "    csv_writer = csv.writer(f)\n",
    "    csv_writer.writerow(just_websites)"
   ]
  },
  {
   "cell_type": "code",
   "execution_count": null,
   "metadata": {},
   "outputs": [],
   "source": []
  }
 ],
 "metadata": {
  "colab": {
   "provenance": []
  },
  "kernelspec": {
   "display_name": "Python 3 (ipykernel)",
   "language": "python",
   "name": "python3"
  },
  "language_info": {
   "codemirror_mode": {
    "name": "ipython",
    "version": 3
   },
   "file_extension": ".py",
   "mimetype": "text/x-python",
   "name": "python",
   "nbconvert_exporter": "python",
   "pygments_lexer": "ipython3",
   "version": "3.10.6"
  },
  "vscode": {
   "interpreter": {
    "hash": "916dbcbb3f70747c44a77c7bcd40155683ae19c65e1c03b4aa3499c5328201f1"
   }
  }
 },
 "nbformat": 4,
 "nbformat_minor": 1
}
