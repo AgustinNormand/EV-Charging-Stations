{
 "cells": [
  {
   "cell_type": "code",
   "execution_count": 2,
   "metadata": {
    "pycharm": {
     "name": "#%%\n"
    }
   },
   "outputs": [
    {
     "name": "stdout",
     "output_type": "stream",
     "text": [
      "Defaulting to user installation because normal site-packages is not writeable\n",
      "Requirement already satisfied: requests in /home/agustin/.local/lib/python3.10/site-packages (2.26.0)\n",
      "Requirement already satisfied: idna<4,>=2.5 in /home/agustin/.local/lib/python3.10/site-packages (from requests) (2.8)\n",
      "Requirement already satisfied: charset-normalizer~=2.0.0 in /home/agustin/.local/lib/python3.10/site-packages (from requests) (2.0.12)\n",
      "Requirement already satisfied: certifi>=2017.4.17 in /home/agustin/.local/lib/python3.10/site-packages (from requests) (2022.9.24)\n",
      "Requirement already satisfied: urllib3<1.27,>=1.21.1 in /home/agustin/.local/lib/python3.10/site-packages (from requests) (1.26.12)\n",
      "Note: you may need to restart the kernel to use updated packages.\n"
     ]
    }
   ],
   "source": [
    "pip install requests"
   ]
  },
  {
   "cell_type": "code",
   "execution_count": 3,
   "metadata": {
    "pycharm": {
     "name": "#%%\n"
    }
   },
   "outputs": [],
   "source": [
    "import requests"
   ]
  },
  {
   "cell_type": "code",
   "execution_count": 4,
   "metadata": {
    "id": "7EbCBfaGno9a",
    "pycharm": {
     "name": "#%%\n"
    }
   },
   "outputs": [],
   "source": [
    "API_KEY = \"HlLGK5Ty9tqyB3cj7NF44mDFJli2QFWuicxRbKI0\""
   ]
  },
  {
   "cell_type": "code",
   "execution_count": 5,
   "metadata": {
    "id": "arSXI06_ndMw",
    "pycharm": {
     "name": "#%%\n"
    }
   },
   "outputs": [],
   "source": [
    "url = \"https://developer.nrel.gov/api/alt-fuel-stations/v1.json?limit=all&api_key={}&fuel_type={}\".format(API_KEY, \"ELEC\")"
   ]
  },
  {
   "cell_type": "code",
   "execution_count": 6,
   "metadata": {
    "id": "SJ7knT3Eny0s",
    "pycharm": {
     "name": "#%%\n"
    }
   },
   "outputs": [],
   "source": [
    "r = requests.get(url)"
   ]
  },
  {
   "cell_type": "code",
   "execution_count": 7,
   "metadata": {
    "id": "9ArmfzzWo4w4",
    "pycharm": {
     "name": "#%%\n"
    }
   },
   "outputs": [],
   "source": [
    "import json\n",
    "\n",
    "json_object = json.loads(r.text)"
   ]
  },
  {
   "cell_type": "code",
   "execution_count": 8,
   "metadata": {
    "colab": {
     "base_uri": "https://localhost:8080/"
    },
    "id": "arItgdren1gm",
    "outputId": "49864b71-d254-4ec9-f168-041c06a78e76",
    "pycharm": {
     "name": "#%%\n"
    }
   },
   "outputs": [
    {
     "data": {
      "text/plain": [
       "dict_keys(['station_locator_url', 'total_results', 'station_counts', 'fuel_stations'])"
      ]
     },
     "execution_count": 8,
     "metadata": {},
     "output_type": "execute_result"
    }
   ],
   "source": [
    "json_object.keys()"
   ]
  },
  {
   "cell_type": "code",
   "execution_count": 9,
   "metadata": {
    "colab": {
     "base_uri": "https://localhost:8080/"
    },
    "id": "ZTIY4owBpPzL",
    "outputId": "f8ab4b0c-5e80-4010-d4e0-6f1a93bd9683",
    "pycharm": {
     "name": "#%%\n"
    }
   },
   "outputs": [
    {
     "data": {
      "text/plain": [
       "59147"
      ]
     },
     "execution_count": 9,
     "metadata": {},
     "output_type": "execute_result"
    }
   ],
   "source": [
    "json_object[\"total_results\"]"
   ]
  },
  {
   "cell_type": "code",
   "execution_count": 10,
   "metadata": {
    "colab": {
     "base_uri": "https://localhost:8080/",
     "height": 35
    },
    "id": "_ieBnPs0pT-F",
    "outputId": "39b032d6-32fa-4c4a-97d8-927f9615e05e",
    "pycharm": {
     "name": "#%%\n"
    }
   },
   "outputs": [
    {
     "data": {
      "text/plain": [
       "'https://afdc.energy.gov/stations/'"
      ]
     },
     "execution_count": 10,
     "metadata": {},
     "output_type": "execute_result"
    }
   ],
   "source": [
    "json_object[\"station_locator_url\"]"
   ]
  },
  {
   "cell_type": "code",
   "execution_count": 11,
   "metadata": {
    "colab": {
     "base_uri": "https://localhost:8080/"
    },
    "id": "YZQaSE3kpVQs",
    "outputId": "ba91f46e-8c6a-4388-cb46-4d66ab9b85df",
    "pycharm": {
     "name": "#%%\n"
    }
   },
   "outputs": [
    {
     "data": {
      "text/plain": [
       "{'total': 154252,\n",
       " 'fuels': {'BD': {'total': 0},\n",
       "  'E85': {'total': 0},\n",
       "  'ELEC': {'total': 154252, 'stations': {'total': 59147}},\n",
       "  'HY': {'total': 0},\n",
       "  'LNG': {'total': 0},\n",
       "  'CNG': {'total': 0},\n",
       "  'LPG': {'total': 0},\n",
       "  'RD': {'total': 0}}}"
      ]
     },
     "execution_count": 11,
     "metadata": {},
     "output_type": "execute_result"
    }
   ],
   "source": [
    "json_object[\"station_counts\"]"
   ]
  },
  {
   "cell_type": "code",
   "execution_count": 12,
   "metadata": {
    "colab": {
     "base_uri": "https://localhost:8080/"
    },
    "id": "_xu2gBFzp4k2",
    "outputId": "30e75694-7607-4322-e547-af07798dc488",
    "pycharm": {
     "name": "#%%\n"
    }
   },
   "outputs": [
    {
     "name": "stdout",
     "output_type": "stream",
     "text": [
      "{'access_code': 'private', 'access_days_time': 'Fleet use only', 'access_detail_code': None, 'cards_accepted': None, 'date_last_confirmed': '2023-01-10', 'expected_date': None, 'fuel_type_code': 'ELEC', 'groups_with_access_code': 'Private', 'id': 1517, 'open_date': '1999-10-15', 'owner_type_code': 'LG', 'status_code': 'E', 'restricted_access': None, 'station_name': 'LADWP - Truesdale Center', 'station_phone': None, 'updated_at': '2023-02-15T22:45:41Z', 'facility_type': 'UTILITY', 'geocode_status': 'GPS', 'latitude': 34.2483191527193, 'longitude': -118.3879713743439, 'city': 'Sun Valley', 'intersection_directions': None, 'plus4': None, 'state': 'CA', 'street_address': '11797 Truesdale St', 'zip': '91352', 'country': 'US', 'bd_blends': None, 'cng_dispenser_num': None, 'cng_fill_type_code': None, 'cng_psi': None, 'cng_renewable_source': None, 'cng_total_compression': None, 'cng_total_storage': None, 'cng_vehicle_class': None, 'e85_blender_pump': None, 'e85_other_ethanol_blends': None, 'ev_connector_types': ['CHADEMO', 'J1772', 'J1772COMBO'], 'ev_dc_fast_num': 3, 'ev_level1_evse_num': None, 'ev_level2_evse_num': 39, 'ev_network': 'Non-Networked', 'ev_network_web': None, 'ev_other_evse': None, 'ev_pricing': None, 'ev_renewable_source': None, 'hy_is_retail': None, 'hy_pressures': None, 'hy_standards': None, 'hy_status_link': None, 'lng_renewable_source': None, 'lng_vehicle_class': None, 'lpg_primary': None, 'lpg_nozzle_types': None, 'ng_fill_type_code': None, 'ng_psi': None, 'ng_vehicle_class': None, 'rd_blends': None, 'rd_blends_fr': None, 'rd_blended_with_biodiesel': None, 'rd_max_biodiesel_level': None, 'access_days_time_fr': None, 'intersection_directions_fr': None, 'bd_blends_fr': None, 'groups_with_access_code_fr': 'Privé', 'ev_pricing_fr': None}\n"
     ]
    }
   ],
   "source": [
    "for station in json_object[\"fuel_stations\"]:\n",
    "  print(station)\n",
    "  break"
   ]
  },
  {
   "cell_type": "code",
   "execution_count": 13,
   "metadata": {
    "id": "nF0lymRmpXs3",
    "pycharm": {
     "name": "#%%\n"
    }
   },
   "outputs": [],
   "source": [
    "stations_coordinates = []\n",
    "for station in json_object[\"fuel_stations\"]:\n",
    "  coordinates = [station[\"id\"], station[\"latitude\"], station[\"longitude\"]]\n",
    "  stations_coordinates.append(coordinates)"
   ]
  },
  {
   "cell_type": "code",
   "execution_count": 14,
   "metadata": {
    "id": "c2telkLRpq8T",
    "pycharm": {
     "name": "#%%\n"
    }
   },
   "outputs": [],
   "source": [
    "with open(\"coordinates.csv\", \"w\") as f:\n",
    "  f.write(\"id,latitude,longitude\\r\\n\")\n",
    "  for coordinate in stations_coordinates:\n",
    "    f.write(\"{},{},{}\\r\\n\".format(coordinate[0], coordinate[1], coordinate[2]))\n"
   ]
  }
 ],
 "metadata": {
  "colab": {
   "provenance": []
  },
  "kernelspec": {
   "display_name": "Python 3 (ipykernel)",
   "language": "python",
   "name": "python3"
  },
  "language_info": {
   "codemirror_mode": {
    "name": "ipython",
    "version": 3
   },
   "file_extension": ".py",
   "mimetype": "text/x-python",
   "name": "python",
   "nbconvert_exporter": "python",
   "pygments_lexer": "ipython3",
   "version": "3.10.6"
  }
 },
 "nbformat": 4,
 "nbformat_minor": 1
}
